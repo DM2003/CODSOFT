{
  "nbformat": 4,
  "nbformat_minor": 0,
  "metadata": {
    "colab": {
      "provenance": [],
      "authorship_tag": "ABX9TyPHprUxUnTsTFBMqHnH4aCO",
      "include_colab_link": true
    },
    "kernelspec": {
      "name": "python3",
      "display_name": "Python 3"
    },
    "language_info": {
      "name": "python"
    }
  },
  "cells": [
    {
      "cell_type": "markdown",
      "metadata": {
        "id": "view-in-github",
        "colab_type": "text"
      },
      "source": [
        "<a href=\"https://colab.research.google.com/github/DM2003/CODSOFT/blob/main/SALES_PREDICTION_Debangan_Mukherjee.ipynb\" target=\"_parent\"><img src=\"https://colab.research.google.com/assets/colab-badge.svg\" alt=\"Open In Colab\"/></a>"
      ]
    },
    {
      "cell_type": "markdown",
      "source": [
        "AUTHOR: Debangan Mukherjee"
      ],
      "metadata": {
        "id": "KfkdOeNta3ud"
      }
    },
    {
      "cell_type": "code",
      "execution_count": 1,
      "metadata": {
        "id": "x-JDLa_-aOB7"
      },
      "outputs": [],
      "source": [
        "# Task 4\n",
        "# CODSOFT, India\n",
        "# Data Science internship\n",
        "# Sales Prediction"
      ]
    },
    {
      "cell_type": "code",
      "source": [
        "# Work pattern to be followed: Importing libraries and datasets ---> Data Preprocessing ----> Data Analysis ----> Train,test split ----> ML model ----> Model Evaluation"
      ],
      "metadata": {
        "id": "E_-F5_VBbAU6"
      },
      "execution_count": 2,
      "outputs": []
    },
    {
      "cell_type": "code",
      "source": [
        "# Importing the libraries\n",
        "import numpy as np\n",
        "import pandas as pd\n",
        "import matplotlib.pyplot as plt\n",
        "import seaborn as sns\n",
        "from sklearn.preprocessing import LabelEncoder\n",
        "from sklearn.model_selection import train_test_split\n",
        "from xgboost import XGBRegressor\n",
        "from sklearn import metrics"
      ],
      "metadata": {
        "id": "8Rp9s8TVbLV4"
      },
      "execution_count": 3,
      "outputs": []
    },
    {
      "cell_type": "code",
      "source": [
        "# Importing dataset\n",
        "sales_data = pd.read_csv('/content/SALES_PREDICTION_TASK 4.csv')"
      ],
      "metadata": {
        "id": "Ex9hwVtBeHGn"
      },
      "execution_count": 4,
      "outputs": []
    },
    {
      "cell_type": "code",
      "source": [
        "# First 5 rows\n",
        "sales_data.head()"
      ],
      "metadata": {
        "colab": {
          "base_uri": "https://localhost:8080/",
          "height": 206
        },
        "id": "UcRSjzHXe6-S",
        "outputId": "3b34e40f-5283-4dd5-caa9-91d0912ef5d6"
      },
      "execution_count": 5,
      "outputs": [
        {
          "output_type": "execute_result",
          "data": {
            "text/plain": [
              "      TV  Radio  Newspaper  Sales\n",
              "0  230.1   37.8       69.2   22.1\n",
              "1   44.5   39.3       45.1   10.4\n",
              "2   17.2   45.9       69.3   12.0\n",
              "3  151.5   41.3       58.5   16.5\n",
              "4  180.8   10.8       58.4   17.9"
            ],
            "text/html": [
              "\n",
              "  <div id=\"df-0a31fe92-d578-4c08-8b2c-daf7014065f1\" class=\"colab-df-container\">\n",
              "    <div>\n",
              "<style scoped>\n",
              "    .dataframe tbody tr th:only-of-type {\n",
              "        vertical-align: middle;\n",
              "    }\n",
              "\n",
              "    .dataframe tbody tr th {\n",
              "        vertical-align: top;\n",
              "    }\n",
              "\n",
              "    .dataframe thead th {\n",
              "        text-align: right;\n",
              "    }\n",
              "</style>\n",
              "<table border=\"1\" class=\"dataframe\">\n",
              "  <thead>\n",
              "    <tr style=\"text-align: right;\">\n",
              "      <th></th>\n",
              "      <th>TV</th>\n",
              "      <th>Radio</th>\n",
              "      <th>Newspaper</th>\n",
              "      <th>Sales</th>\n",
              "    </tr>\n",
              "  </thead>\n",
              "  <tbody>\n",
              "    <tr>\n",
              "      <th>0</th>\n",
              "      <td>230.1</td>\n",
              "      <td>37.8</td>\n",
              "      <td>69.2</td>\n",
              "      <td>22.1</td>\n",
              "    </tr>\n",
              "    <tr>\n",
              "      <th>1</th>\n",
              "      <td>44.5</td>\n",
              "      <td>39.3</td>\n",
              "      <td>45.1</td>\n",
              "      <td>10.4</td>\n",
              "    </tr>\n",
              "    <tr>\n",
              "      <th>2</th>\n",
              "      <td>17.2</td>\n",
              "      <td>45.9</td>\n",
              "      <td>69.3</td>\n",
              "      <td>12.0</td>\n",
              "    </tr>\n",
              "    <tr>\n",
              "      <th>3</th>\n",
              "      <td>151.5</td>\n",
              "      <td>41.3</td>\n",
              "      <td>58.5</td>\n",
              "      <td>16.5</td>\n",
              "    </tr>\n",
              "    <tr>\n",
              "      <th>4</th>\n",
              "      <td>180.8</td>\n",
              "      <td>10.8</td>\n",
              "      <td>58.4</td>\n",
              "      <td>17.9</td>\n",
              "    </tr>\n",
              "  </tbody>\n",
              "</table>\n",
              "</div>\n",
              "    <div class=\"colab-df-buttons\">\n",
              "\n",
              "  <div class=\"colab-df-container\">\n",
              "    <button class=\"colab-df-convert\" onclick=\"convertToInteractive('df-0a31fe92-d578-4c08-8b2c-daf7014065f1')\"\n",
              "            title=\"Convert this dataframe to an interactive table.\"\n",
              "            style=\"display:none;\">\n",
              "\n",
              "  <svg xmlns=\"http://www.w3.org/2000/svg\" height=\"24px\" viewBox=\"0 -960 960 960\">\n",
              "    <path d=\"M120-120v-720h720v720H120Zm60-500h600v-160H180v160Zm220 220h160v-160H400v160Zm0 220h160v-160H400v160ZM180-400h160v-160H180v160Zm440 0h160v-160H620v160ZM180-180h160v-160H180v160Zm440 0h160v-160H620v160Z\"/>\n",
              "  </svg>\n",
              "    </button>\n",
              "\n",
              "  <style>\n",
              "    .colab-df-container {\n",
              "      display:flex;\n",
              "      gap: 12px;\n",
              "    }\n",
              "\n",
              "    .colab-df-convert {\n",
              "      background-color: #E8F0FE;\n",
              "      border: none;\n",
              "      border-radius: 50%;\n",
              "      cursor: pointer;\n",
              "      display: none;\n",
              "      fill: #1967D2;\n",
              "      height: 32px;\n",
              "      padding: 0 0 0 0;\n",
              "      width: 32px;\n",
              "    }\n",
              "\n",
              "    .colab-df-convert:hover {\n",
              "      background-color: #E2EBFA;\n",
              "      box-shadow: 0px 1px 2px rgba(60, 64, 67, 0.3), 0px 1px 3px 1px rgba(60, 64, 67, 0.15);\n",
              "      fill: #174EA6;\n",
              "    }\n",
              "\n",
              "    .colab-df-buttons div {\n",
              "      margin-bottom: 4px;\n",
              "    }\n",
              "\n",
              "    [theme=dark] .colab-df-convert {\n",
              "      background-color: #3B4455;\n",
              "      fill: #D2E3FC;\n",
              "    }\n",
              "\n",
              "    [theme=dark] .colab-df-convert:hover {\n",
              "      background-color: #434B5C;\n",
              "      box-shadow: 0px 1px 3px 1px rgba(0, 0, 0, 0.15);\n",
              "      filter: drop-shadow(0px 1px 2px rgba(0, 0, 0, 0.3));\n",
              "      fill: #FFFFFF;\n",
              "    }\n",
              "  </style>\n",
              "\n",
              "    <script>\n",
              "      const buttonEl =\n",
              "        document.querySelector('#df-0a31fe92-d578-4c08-8b2c-daf7014065f1 button.colab-df-convert');\n",
              "      buttonEl.style.display =\n",
              "        google.colab.kernel.accessAllowed ? 'block' : 'none';\n",
              "\n",
              "      async function convertToInteractive(key) {\n",
              "        const element = document.querySelector('#df-0a31fe92-d578-4c08-8b2c-daf7014065f1');\n",
              "        const dataTable =\n",
              "          await google.colab.kernel.invokeFunction('convertToInteractive',\n",
              "                                                    [key], {});\n",
              "        if (!dataTable) return;\n",
              "\n",
              "        const docLinkHtml = 'Like what you see? Visit the ' +\n",
              "          '<a target=\"_blank\" href=https://colab.research.google.com/notebooks/data_table.ipynb>data table notebook</a>'\n",
              "          + ' to learn more about interactive tables.';\n",
              "        element.innerHTML = '';\n",
              "        dataTable['output_type'] = 'display_data';\n",
              "        await google.colab.output.renderOutput(dataTable, element);\n",
              "        const docLink = document.createElement('div');\n",
              "        docLink.innerHTML = docLinkHtml;\n",
              "        element.appendChild(docLink);\n",
              "      }\n",
              "    </script>\n",
              "  </div>\n",
              "\n",
              "\n",
              "<div id=\"df-4d1e2b58-14b6-455b-a11f-8c8ed90a7ad1\">\n",
              "  <button class=\"colab-df-quickchart\" onclick=\"quickchart('df-4d1e2b58-14b6-455b-a11f-8c8ed90a7ad1')\"\n",
              "            title=\"Suggest charts\"\n",
              "            style=\"display:none;\">\n",
              "\n",
              "<svg xmlns=\"http://www.w3.org/2000/svg\" height=\"24px\"viewBox=\"0 0 24 24\"\n",
              "     width=\"24px\">\n",
              "    <g>\n",
              "        <path d=\"M19 3H5c-1.1 0-2 .9-2 2v14c0 1.1.9 2 2 2h14c1.1 0 2-.9 2-2V5c0-1.1-.9-2-2-2zM9 17H7v-7h2v7zm4 0h-2V7h2v10zm4 0h-2v-4h2v4z\"/>\n",
              "    </g>\n",
              "</svg>\n",
              "  </button>\n",
              "\n",
              "<style>\n",
              "  .colab-df-quickchart {\n",
              "      --bg-color: #E8F0FE;\n",
              "      --fill-color: #1967D2;\n",
              "      --hover-bg-color: #E2EBFA;\n",
              "      --hover-fill-color: #174EA6;\n",
              "      --disabled-fill-color: #AAA;\n",
              "      --disabled-bg-color: #DDD;\n",
              "  }\n",
              "\n",
              "  [theme=dark] .colab-df-quickchart {\n",
              "      --bg-color: #3B4455;\n",
              "      --fill-color: #D2E3FC;\n",
              "      --hover-bg-color: #434B5C;\n",
              "      --hover-fill-color: #FFFFFF;\n",
              "      --disabled-bg-color: #3B4455;\n",
              "      --disabled-fill-color: #666;\n",
              "  }\n",
              "\n",
              "  .colab-df-quickchart {\n",
              "    background-color: var(--bg-color);\n",
              "    border: none;\n",
              "    border-radius: 50%;\n",
              "    cursor: pointer;\n",
              "    display: none;\n",
              "    fill: var(--fill-color);\n",
              "    height: 32px;\n",
              "    padding: 0;\n",
              "    width: 32px;\n",
              "  }\n",
              "\n",
              "  .colab-df-quickchart:hover {\n",
              "    background-color: var(--hover-bg-color);\n",
              "    box-shadow: 0 1px 2px rgba(60, 64, 67, 0.3), 0 1px 3px 1px rgba(60, 64, 67, 0.15);\n",
              "    fill: var(--button-hover-fill-color);\n",
              "  }\n",
              "\n",
              "  .colab-df-quickchart-complete:disabled,\n",
              "  .colab-df-quickchart-complete:disabled:hover {\n",
              "    background-color: var(--disabled-bg-color);\n",
              "    fill: var(--disabled-fill-color);\n",
              "    box-shadow: none;\n",
              "  }\n",
              "\n",
              "  .colab-df-spinner {\n",
              "    border: 2px solid var(--fill-color);\n",
              "    border-color: transparent;\n",
              "    border-bottom-color: var(--fill-color);\n",
              "    animation:\n",
              "      spin 1s steps(1) infinite;\n",
              "  }\n",
              "\n",
              "  @keyframes spin {\n",
              "    0% {\n",
              "      border-color: transparent;\n",
              "      border-bottom-color: var(--fill-color);\n",
              "      border-left-color: var(--fill-color);\n",
              "    }\n",
              "    20% {\n",
              "      border-color: transparent;\n",
              "      border-left-color: var(--fill-color);\n",
              "      border-top-color: var(--fill-color);\n",
              "    }\n",
              "    30% {\n",
              "      border-color: transparent;\n",
              "      border-left-color: var(--fill-color);\n",
              "      border-top-color: var(--fill-color);\n",
              "      border-right-color: var(--fill-color);\n",
              "    }\n",
              "    40% {\n",
              "      border-color: transparent;\n",
              "      border-right-color: var(--fill-color);\n",
              "      border-top-color: var(--fill-color);\n",
              "    }\n",
              "    60% {\n",
              "      border-color: transparent;\n",
              "      border-right-color: var(--fill-color);\n",
              "    }\n",
              "    80% {\n",
              "      border-color: transparent;\n",
              "      border-right-color: var(--fill-color);\n",
              "      border-bottom-color: var(--fill-color);\n",
              "    }\n",
              "    90% {\n",
              "      border-color: transparent;\n",
              "      border-bottom-color: var(--fill-color);\n",
              "    }\n",
              "  }\n",
              "</style>\n",
              "\n",
              "  <script>\n",
              "    async function quickchart(key) {\n",
              "      const quickchartButtonEl =\n",
              "        document.querySelector('#' + key + ' button');\n",
              "      quickchartButtonEl.disabled = true;  // To prevent multiple clicks.\n",
              "      quickchartButtonEl.classList.add('colab-df-spinner');\n",
              "      try {\n",
              "        const charts = await google.colab.kernel.invokeFunction(\n",
              "            'suggestCharts', [key], {});\n",
              "      } catch (error) {\n",
              "        console.error('Error during call to suggestCharts:', error);\n",
              "      }\n",
              "      quickchartButtonEl.classList.remove('colab-df-spinner');\n",
              "      quickchartButtonEl.classList.add('colab-df-quickchart-complete');\n",
              "    }\n",
              "    (() => {\n",
              "      let quickchartButtonEl =\n",
              "        document.querySelector('#df-4d1e2b58-14b6-455b-a11f-8c8ed90a7ad1 button');\n",
              "      quickchartButtonEl.style.display =\n",
              "        google.colab.kernel.accessAllowed ? 'block' : 'none';\n",
              "    })();\n",
              "  </script>\n",
              "</div>\n",
              "\n",
              "    </div>\n",
              "  </div>\n"
            ],
            "application/vnd.google.colaboratory.intrinsic+json": {
              "type": "dataframe",
              "variable_name": "sales_data",
              "summary": "{\n  \"name\": \"sales_data\",\n  \"rows\": 200,\n  \"fields\": [\n    {\n      \"column\": \"TV\",\n      \"properties\": {\n        \"dtype\": \"number\",\n        \"std\": 85.85423631490808,\n        \"min\": 0.7,\n        \"max\": 296.4,\n        \"num_unique_values\": 190,\n        \"samples\": [\n          287.6,\n          286.0,\n          78.2\n        ],\n        \"semantic_type\": \"\",\n        \"description\": \"\"\n      }\n    },\n    {\n      \"column\": \"Radio\",\n      \"properties\": {\n        \"dtype\": \"number\",\n        \"std\": 14.846809176168724,\n        \"min\": 0.0,\n        \"max\": 49.6,\n        \"num_unique_values\": 167,\n        \"samples\": [\n          8.2,\n          36.9,\n          44.5\n        ],\n        \"semantic_type\": \"\",\n        \"description\": \"\"\n      }\n    },\n    {\n      \"column\": \"Newspaper\",\n      \"properties\": {\n        \"dtype\": \"number\",\n        \"std\": 21.778620838522826,\n        \"min\": 0.3,\n        \"max\": 114.0,\n        \"num_unique_values\": 172,\n        \"samples\": [\n          22.3,\n          5.7,\n          17.0\n        ],\n        \"semantic_type\": \"\",\n        \"description\": \"\"\n      }\n    },\n    {\n      \"column\": \"Sales\",\n      \"properties\": {\n        \"dtype\": \"number\",\n        \"std\": 5.283892252561876,\n        \"min\": 1.6,\n        \"max\": 27.0,\n        \"num_unique_values\": 121,\n        \"samples\": [\n          19.8,\n          22.6,\n          17.9\n        ],\n        \"semantic_type\": \"\",\n        \"description\": \"\"\n      }\n    }\n  ]\n}"
            }
          },
          "metadata": {},
          "execution_count": 5
        }
      ]
    },
    {
      "cell_type": "code",
      "source": [
        "# Last 5 rows\n",
        "sales_data.tail()"
      ],
      "metadata": {
        "colab": {
          "base_uri": "https://localhost:8080/",
          "height": 206
        },
        "id": "hd8JZqT8r7rY",
        "outputId": "001a8290-b363-4704-f3d5-3396ff983a96"
      },
      "execution_count": 27,
      "outputs": [
        {
          "output_type": "execute_result",
          "data": {
            "text/plain": [
              "        TV  Radio  Newspaper  Sales\n",
              "195   38.2    3.7       13.8    7.6\n",
              "196   94.2    4.9        8.1   14.0\n",
              "197  177.0    9.3        6.4   14.8\n",
              "198  283.6   42.0       66.2   25.5\n",
              "199  232.1    8.6        8.7   18.4"
            ],
            "text/html": [
              "\n",
              "  <div id=\"df-fc778b06-0094-417f-b724-2efce3fe7546\" class=\"colab-df-container\">\n",
              "    <div>\n",
              "<style scoped>\n",
              "    .dataframe tbody tr th:only-of-type {\n",
              "        vertical-align: middle;\n",
              "    }\n",
              "\n",
              "    .dataframe tbody tr th {\n",
              "        vertical-align: top;\n",
              "    }\n",
              "\n",
              "    .dataframe thead th {\n",
              "        text-align: right;\n",
              "    }\n",
              "</style>\n",
              "<table border=\"1\" class=\"dataframe\">\n",
              "  <thead>\n",
              "    <tr style=\"text-align: right;\">\n",
              "      <th></th>\n",
              "      <th>TV</th>\n",
              "      <th>Radio</th>\n",
              "      <th>Newspaper</th>\n",
              "      <th>Sales</th>\n",
              "    </tr>\n",
              "  </thead>\n",
              "  <tbody>\n",
              "    <tr>\n",
              "      <th>195</th>\n",
              "      <td>38.2</td>\n",
              "      <td>3.7</td>\n",
              "      <td>13.8</td>\n",
              "      <td>7.6</td>\n",
              "    </tr>\n",
              "    <tr>\n",
              "      <th>196</th>\n",
              "      <td>94.2</td>\n",
              "      <td>4.9</td>\n",
              "      <td>8.1</td>\n",
              "      <td>14.0</td>\n",
              "    </tr>\n",
              "    <tr>\n",
              "      <th>197</th>\n",
              "      <td>177.0</td>\n",
              "      <td>9.3</td>\n",
              "      <td>6.4</td>\n",
              "      <td>14.8</td>\n",
              "    </tr>\n",
              "    <tr>\n",
              "      <th>198</th>\n",
              "      <td>283.6</td>\n",
              "      <td>42.0</td>\n",
              "      <td>66.2</td>\n",
              "      <td>25.5</td>\n",
              "    </tr>\n",
              "    <tr>\n",
              "      <th>199</th>\n",
              "      <td>232.1</td>\n",
              "      <td>8.6</td>\n",
              "      <td>8.7</td>\n",
              "      <td>18.4</td>\n",
              "    </tr>\n",
              "  </tbody>\n",
              "</table>\n",
              "</div>\n",
              "    <div class=\"colab-df-buttons\">\n",
              "\n",
              "  <div class=\"colab-df-container\">\n",
              "    <button class=\"colab-df-convert\" onclick=\"convertToInteractive('df-fc778b06-0094-417f-b724-2efce3fe7546')\"\n",
              "            title=\"Convert this dataframe to an interactive table.\"\n",
              "            style=\"display:none;\">\n",
              "\n",
              "  <svg xmlns=\"http://www.w3.org/2000/svg\" height=\"24px\" viewBox=\"0 -960 960 960\">\n",
              "    <path d=\"M120-120v-720h720v720H120Zm60-500h600v-160H180v160Zm220 220h160v-160H400v160Zm0 220h160v-160H400v160ZM180-400h160v-160H180v160Zm440 0h160v-160H620v160ZM180-180h160v-160H180v160Zm440 0h160v-160H620v160Z\"/>\n",
              "  </svg>\n",
              "    </button>\n",
              "\n",
              "  <style>\n",
              "    .colab-df-container {\n",
              "      display:flex;\n",
              "      gap: 12px;\n",
              "    }\n",
              "\n",
              "    .colab-df-convert {\n",
              "      background-color: #E8F0FE;\n",
              "      border: none;\n",
              "      border-radius: 50%;\n",
              "      cursor: pointer;\n",
              "      display: none;\n",
              "      fill: #1967D2;\n",
              "      height: 32px;\n",
              "      padding: 0 0 0 0;\n",
              "      width: 32px;\n",
              "    }\n",
              "\n",
              "    .colab-df-convert:hover {\n",
              "      background-color: #E2EBFA;\n",
              "      box-shadow: 0px 1px 2px rgba(60, 64, 67, 0.3), 0px 1px 3px 1px rgba(60, 64, 67, 0.15);\n",
              "      fill: #174EA6;\n",
              "    }\n",
              "\n",
              "    .colab-df-buttons div {\n",
              "      margin-bottom: 4px;\n",
              "    }\n",
              "\n",
              "    [theme=dark] .colab-df-convert {\n",
              "      background-color: #3B4455;\n",
              "      fill: #D2E3FC;\n",
              "    }\n",
              "\n",
              "    [theme=dark] .colab-df-convert:hover {\n",
              "      background-color: #434B5C;\n",
              "      box-shadow: 0px 1px 3px 1px rgba(0, 0, 0, 0.15);\n",
              "      filter: drop-shadow(0px 1px 2px rgba(0, 0, 0, 0.3));\n",
              "      fill: #FFFFFF;\n",
              "    }\n",
              "  </style>\n",
              "\n",
              "    <script>\n",
              "      const buttonEl =\n",
              "        document.querySelector('#df-fc778b06-0094-417f-b724-2efce3fe7546 button.colab-df-convert');\n",
              "      buttonEl.style.display =\n",
              "        google.colab.kernel.accessAllowed ? 'block' : 'none';\n",
              "\n",
              "      async function convertToInteractive(key) {\n",
              "        const element = document.querySelector('#df-fc778b06-0094-417f-b724-2efce3fe7546');\n",
              "        const dataTable =\n",
              "          await google.colab.kernel.invokeFunction('convertToInteractive',\n",
              "                                                    [key], {});\n",
              "        if (!dataTable) return;\n",
              "\n",
              "        const docLinkHtml = 'Like what you see? Visit the ' +\n",
              "          '<a target=\"_blank\" href=https://colab.research.google.com/notebooks/data_table.ipynb>data table notebook</a>'\n",
              "          + ' to learn more about interactive tables.';\n",
              "        element.innerHTML = '';\n",
              "        dataTable['output_type'] = 'display_data';\n",
              "        await google.colab.output.renderOutput(dataTable, element);\n",
              "        const docLink = document.createElement('div');\n",
              "        docLink.innerHTML = docLinkHtml;\n",
              "        element.appendChild(docLink);\n",
              "      }\n",
              "    </script>\n",
              "  </div>\n",
              "\n",
              "\n",
              "<div id=\"df-c98a7f0e-6eea-43cd-be6d-26b4b42e3306\">\n",
              "  <button class=\"colab-df-quickchart\" onclick=\"quickchart('df-c98a7f0e-6eea-43cd-be6d-26b4b42e3306')\"\n",
              "            title=\"Suggest charts\"\n",
              "            style=\"display:none;\">\n",
              "\n",
              "<svg xmlns=\"http://www.w3.org/2000/svg\" height=\"24px\"viewBox=\"0 0 24 24\"\n",
              "     width=\"24px\">\n",
              "    <g>\n",
              "        <path d=\"M19 3H5c-1.1 0-2 .9-2 2v14c0 1.1.9 2 2 2h14c1.1 0 2-.9 2-2V5c0-1.1-.9-2-2-2zM9 17H7v-7h2v7zm4 0h-2V7h2v10zm4 0h-2v-4h2v4z\"/>\n",
              "    </g>\n",
              "</svg>\n",
              "  </button>\n",
              "\n",
              "<style>\n",
              "  .colab-df-quickchart {\n",
              "      --bg-color: #E8F0FE;\n",
              "      --fill-color: #1967D2;\n",
              "      --hover-bg-color: #E2EBFA;\n",
              "      --hover-fill-color: #174EA6;\n",
              "      --disabled-fill-color: #AAA;\n",
              "      --disabled-bg-color: #DDD;\n",
              "  }\n",
              "\n",
              "  [theme=dark] .colab-df-quickchart {\n",
              "      --bg-color: #3B4455;\n",
              "      --fill-color: #D2E3FC;\n",
              "      --hover-bg-color: #434B5C;\n",
              "      --hover-fill-color: #FFFFFF;\n",
              "      --disabled-bg-color: #3B4455;\n",
              "      --disabled-fill-color: #666;\n",
              "  }\n",
              "\n",
              "  .colab-df-quickchart {\n",
              "    background-color: var(--bg-color);\n",
              "    border: none;\n",
              "    border-radius: 50%;\n",
              "    cursor: pointer;\n",
              "    display: none;\n",
              "    fill: var(--fill-color);\n",
              "    height: 32px;\n",
              "    padding: 0;\n",
              "    width: 32px;\n",
              "  }\n",
              "\n",
              "  .colab-df-quickchart:hover {\n",
              "    background-color: var(--hover-bg-color);\n",
              "    box-shadow: 0 1px 2px rgba(60, 64, 67, 0.3), 0 1px 3px 1px rgba(60, 64, 67, 0.15);\n",
              "    fill: var(--button-hover-fill-color);\n",
              "  }\n",
              "\n",
              "  .colab-df-quickchart-complete:disabled,\n",
              "  .colab-df-quickchart-complete:disabled:hover {\n",
              "    background-color: var(--disabled-bg-color);\n",
              "    fill: var(--disabled-fill-color);\n",
              "    box-shadow: none;\n",
              "  }\n",
              "\n",
              "  .colab-df-spinner {\n",
              "    border: 2px solid var(--fill-color);\n",
              "    border-color: transparent;\n",
              "    border-bottom-color: var(--fill-color);\n",
              "    animation:\n",
              "      spin 1s steps(1) infinite;\n",
              "  }\n",
              "\n",
              "  @keyframes spin {\n",
              "    0% {\n",
              "      border-color: transparent;\n",
              "      border-bottom-color: var(--fill-color);\n",
              "      border-left-color: var(--fill-color);\n",
              "    }\n",
              "    20% {\n",
              "      border-color: transparent;\n",
              "      border-left-color: var(--fill-color);\n",
              "      border-top-color: var(--fill-color);\n",
              "    }\n",
              "    30% {\n",
              "      border-color: transparent;\n",
              "      border-left-color: var(--fill-color);\n",
              "      border-top-color: var(--fill-color);\n",
              "      border-right-color: var(--fill-color);\n",
              "    }\n",
              "    40% {\n",
              "      border-color: transparent;\n",
              "      border-right-color: var(--fill-color);\n",
              "      border-top-color: var(--fill-color);\n",
              "    }\n",
              "    60% {\n",
              "      border-color: transparent;\n",
              "      border-right-color: var(--fill-color);\n",
              "    }\n",
              "    80% {\n",
              "      border-color: transparent;\n",
              "      border-right-color: var(--fill-color);\n",
              "      border-bottom-color: var(--fill-color);\n",
              "    }\n",
              "    90% {\n",
              "      border-color: transparent;\n",
              "      border-bottom-color: var(--fill-color);\n",
              "    }\n",
              "  }\n",
              "</style>\n",
              "\n",
              "  <script>\n",
              "    async function quickchart(key) {\n",
              "      const quickchartButtonEl =\n",
              "        document.querySelector('#' + key + ' button');\n",
              "      quickchartButtonEl.disabled = true;  // To prevent multiple clicks.\n",
              "      quickchartButtonEl.classList.add('colab-df-spinner');\n",
              "      try {\n",
              "        const charts = await google.colab.kernel.invokeFunction(\n",
              "            'suggestCharts', [key], {});\n",
              "      } catch (error) {\n",
              "        console.error('Error during call to suggestCharts:', error);\n",
              "      }\n",
              "      quickchartButtonEl.classList.remove('colab-df-spinner');\n",
              "      quickchartButtonEl.classList.add('colab-df-quickchart-complete');\n",
              "    }\n",
              "    (() => {\n",
              "      let quickchartButtonEl =\n",
              "        document.querySelector('#df-c98a7f0e-6eea-43cd-be6d-26b4b42e3306 button');\n",
              "      quickchartButtonEl.style.display =\n",
              "        google.colab.kernel.accessAllowed ? 'block' : 'none';\n",
              "    })();\n",
              "  </script>\n",
              "</div>\n",
              "\n",
              "    </div>\n",
              "  </div>\n"
            ],
            "application/vnd.google.colaboratory.intrinsic+json": {
              "type": "dataframe",
              "summary": "{\n  \"name\": \"sales_data\",\n  \"rows\": 5,\n  \"fields\": [\n    {\n      \"column\": \"TV\",\n      \"properties\": {\n        \"dtype\": \"number\",\n        \"std\": 99.75375682148518,\n        \"min\": 38.2,\n        \"max\": 283.6,\n        \"num_unique_values\": 5,\n        \"samples\": [\n          94.2,\n          232.1,\n          177.0\n        ],\n        \"semantic_type\": \"\",\n        \"description\": \"\"\n      }\n    },\n    {\n      \"column\": \"Radio\",\n      \"properties\": {\n        \"dtype\": \"number\",\n        \"std\": 15.997656078313472,\n        \"min\": 3.7,\n        \"max\": 42.0,\n        \"num_unique_values\": 5,\n        \"samples\": [\n          4.9,\n          8.6,\n          9.3\n        ],\n        \"semantic_type\": \"\",\n        \"description\": \"\"\n      }\n    },\n    {\n      \"column\": \"Newspaper\",\n      \"properties\": {\n        \"dtype\": \"number\",\n        \"std\": 25.61782582499928,\n        \"min\": 6.4,\n        \"max\": 66.2,\n        \"num_unique_values\": 5,\n        \"samples\": [\n          8.1,\n          8.7,\n          6.4\n        ],\n        \"semantic_type\": \"\",\n        \"description\": \"\"\n      }\n    },\n    {\n      \"column\": \"Sales\",\n      \"properties\": {\n        \"dtype\": \"number\",\n        \"std\": 6.557286023958388,\n        \"min\": 7.6,\n        \"max\": 25.5,\n        \"num_unique_values\": 5,\n        \"samples\": [\n          14.0,\n          18.4,\n          14.8\n        ],\n        \"semantic_type\": \"\",\n        \"description\": \"\"\n      }\n    }\n  ]\n}"
            }
          },
          "metadata": {},
          "execution_count": 27
        }
      ]
    },
    {
      "cell_type": "code",
      "source": [
        "sales_data.shape"
      ],
      "metadata": {
        "colab": {
          "base_uri": "https://localhost:8080/"
        },
        "id": "mSVunAAbfLcT",
        "outputId": "dc5840b9-cd49-4e5e-b6f9-0e5072e4ed8e"
      },
      "execution_count": 6,
      "outputs": [
        {
          "output_type": "execute_result",
          "data": {
            "text/plain": [
              "(200, 4)"
            ]
          },
          "metadata": {},
          "execution_count": 6
        }
      ]
    },
    {
      "cell_type": "code",
      "source": [
        "sales_data.info()"
      ],
      "metadata": {
        "colab": {
          "base_uri": "https://localhost:8080/"
        },
        "id": "QpJkbLIQgh8W",
        "outputId": "b6699757-1034-42fd-9d8f-42a43912e5eb"
      },
      "execution_count": 7,
      "outputs": [
        {
          "output_type": "stream",
          "name": "stdout",
          "text": [
            "<class 'pandas.core.frame.DataFrame'>\n",
            "RangeIndex: 200 entries, 0 to 199\n",
            "Data columns (total 4 columns):\n",
            " #   Column     Non-Null Count  Dtype  \n",
            "---  ------     --------------  -----  \n",
            " 0   TV         200 non-null    float64\n",
            " 1   Radio      200 non-null    float64\n",
            " 2   Newspaper  200 non-null    float64\n",
            " 3   Sales      200 non-null    float64\n",
            "dtypes: float64(4)\n",
            "memory usage: 6.4 KB\n"
          ]
        }
      ]
    },
    {
      "cell_type": "code",
      "source": [
        "# Checking for missing values\n",
        "sales_data.isnull().sum()"
      ],
      "metadata": {
        "colab": {
          "base_uri": "https://localhost:8080/"
        },
        "id": "T1mZDQGRgngO",
        "outputId": "9b9a86fc-8fcb-4938-e133-e6f658dd0d41"
      },
      "execution_count": 8,
      "outputs": [
        {
          "output_type": "execute_result",
          "data": {
            "text/plain": [
              "TV           0\n",
              "Radio        0\n",
              "Newspaper    0\n",
              "Sales        0\n",
              "dtype: int64"
            ]
          },
          "metadata": {},
          "execution_count": 8
        }
      ]
    },
    {
      "cell_type": "markdown",
      "source": [
        "Thus, we can see that our dataset contains no missing values"
      ],
      "metadata": {
        "id": "N6k43-PyhOAL"
      }
    },
    {
      "cell_type": "code",
      "source": [
        "# Data Analysis\n",
        "sales_data.describe()"
      ],
      "metadata": {
        "colab": {
          "base_uri": "https://localhost:8080/",
          "height": 300
        },
        "id": "C9uF5j_zhMaI",
        "outputId": "760c2d7a-3c99-41d5-b64c-effe21df0f51"
      },
      "execution_count": 9,
      "outputs": [
        {
          "output_type": "execute_result",
          "data": {
            "text/plain": [
              "               TV       Radio   Newspaper       Sales\n",
              "count  200.000000  200.000000  200.000000  200.000000\n",
              "mean   147.042500   23.264000   30.554000   15.130500\n",
              "std     85.854236   14.846809   21.778621    5.283892\n",
              "min      0.700000    0.000000    0.300000    1.600000\n",
              "25%     74.375000    9.975000   12.750000   11.000000\n",
              "50%    149.750000   22.900000   25.750000   16.000000\n",
              "75%    218.825000   36.525000   45.100000   19.050000\n",
              "max    296.400000   49.600000  114.000000   27.000000"
            ],
            "text/html": [
              "\n",
              "  <div id=\"df-f5002675-959d-4264-adff-84564d8dcb14\" class=\"colab-df-container\">\n",
              "    <div>\n",
              "<style scoped>\n",
              "    .dataframe tbody tr th:only-of-type {\n",
              "        vertical-align: middle;\n",
              "    }\n",
              "\n",
              "    .dataframe tbody tr th {\n",
              "        vertical-align: top;\n",
              "    }\n",
              "\n",
              "    .dataframe thead th {\n",
              "        text-align: right;\n",
              "    }\n",
              "</style>\n",
              "<table border=\"1\" class=\"dataframe\">\n",
              "  <thead>\n",
              "    <tr style=\"text-align: right;\">\n",
              "      <th></th>\n",
              "      <th>TV</th>\n",
              "      <th>Radio</th>\n",
              "      <th>Newspaper</th>\n",
              "      <th>Sales</th>\n",
              "    </tr>\n",
              "  </thead>\n",
              "  <tbody>\n",
              "    <tr>\n",
              "      <th>count</th>\n",
              "      <td>200.000000</td>\n",
              "      <td>200.000000</td>\n",
              "      <td>200.000000</td>\n",
              "      <td>200.000000</td>\n",
              "    </tr>\n",
              "    <tr>\n",
              "      <th>mean</th>\n",
              "      <td>147.042500</td>\n",
              "      <td>23.264000</td>\n",
              "      <td>30.554000</td>\n",
              "      <td>15.130500</td>\n",
              "    </tr>\n",
              "    <tr>\n",
              "      <th>std</th>\n",
              "      <td>85.854236</td>\n",
              "      <td>14.846809</td>\n",
              "      <td>21.778621</td>\n",
              "      <td>5.283892</td>\n",
              "    </tr>\n",
              "    <tr>\n",
              "      <th>min</th>\n",
              "      <td>0.700000</td>\n",
              "      <td>0.000000</td>\n",
              "      <td>0.300000</td>\n",
              "      <td>1.600000</td>\n",
              "    </tr>\n",
              "    <tr>\n",
              "      <th>25%</th>\n",
              "      <td>74.375000</td>\n",
              "      <td>9.975000</td>\n",
              "      <td>12.750000</td>\n",
              "      <td>11.000000</td>\n",
              "    </tr>\n",
              "    <tr>\n",
              "      <th>50%</th>\n",
              "      <td>149.750000</td>\n",
              "      <td>22.900000</td>\n",
              "      <td>25.750000</td>\n",
              "      <td>16.000000</td>\n",
              "    </tr>\n",
              "    <tr>\n",
              "      <th>75%</th>\n",
              "      <td>218.825000</td>\n",
              "      <td>36.525000</td>\n",
              "      <td>45.100000</td>\n",
              "      <td>19.050000</td>\n",
              "    </tr>\n",
              "    <tr>\n",
              "      <th>max</th>\n",
              "      <td>296.400000</td>\n",
              "      <td>49.600000</td>\n",
              "      <td>114.000000</td>\n",
              "      <td>27.000000</td>\n",
              "    </tr>\n",
              "  </tbody>\n",
              "</table>\n",
              "</div>\n",
              "    <div class=\"colab-df-buttons\">\n",
              "\n",
              "  <div class=\"colab-df-container\">\n",
              "    <button class=\"colab-df-convert\" onclick=\"convertToInteractive('df-f5002675-959d-4264-adff-84564d8dcb14')\"\n",
              "            title=\"Convert this dataframe to an interactive table.\"\n",
              "            style=\"display:none;\">\n",
              "\n",
              "  <svg xmlns=\"http://www.w3.org/2000/svg\" height=\"24px\" viewBox=\"0 -960 960 960\">\n",
              "    <path d=\"M120-120v-720h720v720H120Zm60-500h600v-160H180v160Zm220 220h160v-160H400v160Zm0 220h160v-160H400v160ZM180-400h160v-160H180v160Zm440 0h160v-160H620v160ZM180-180h160v-160H180v160Zm440 0h160v-160H620v160Z\"/>\n",
              "  </svg>\n",
              "    </button>\n",
              "\n",
              "  <style>\n",
              "    .colab-df-container {\n",
              "      display:flex;\n",
              "      gap: 12px;\n",
              "    }\n",
              "\n",
              "    .colab-df-convert {\n",
              "      background-color: #E8F0FE;\n",
              "      border: none;\n",
              "      border-radius: 50%;\n",
              "      cursor: pointer;\n",
              "      display: none;\n",
              "      fill: #1967D2;\n",
              "      height: 32px;\n",
              "      padding: 0 0 0 0;\n",
              "      width: 32px;\n",
              "    }\n",
              "\n",
              "    .colab-df-convert:hover {\n",
              "      background-color: #E2EBFA;\n",
              "      box-shadow: 0px 1px 2px rgba(60, 64, 67, 0.3), 0px 1px 3px 1px rgba(60, 64, 67, 0.15);\n",
              "      fill: #174EA6;\n",
              "    }\n",
              "\n",
              "    .colab-df-buttons div {\n",
              "      margin-bottom: 4px;\n",
              "    }\n",
              "\n",
              "    [theme=dark] .colab-df-convert {\n",
              "      background-color: #3B4455;\n",
              "      fill: #D2E3FC;\n",
              "    }\n",
              "\n",
              "    [theme=dark] .colab-df-convert:hover {\n",
              "      background-color: #434B5C;\n",
              "      box-shadow: 0px 1px 3px 1px rgba(0, 0, 0, 0.15);\n",
              "      filter: drop-shadow(0px 1px 2px rgba(0, 0, 0, 0.3));\n",
              "      fill: #FFFFFF;\n",
              "    }\n",
              "  </style>\n",
              "\n",
              "    <script>\n",
              "      const buttonEl =\n",
              "        document.querySelector('#df-f5002675-959d-4264-adff-84564d8dcb14 button.colab-df-convert');\n",
              "      buttonEl.style.display =\n",
              "        google.colab.kernel.accessAllowed ? 'block' : 'none';\n",
              "\n",
              "      async function convertToInteractive(key) {\n",
              "        const element = document.querySelector('#df-f5002675-959d-4264-adff-84564d8dcb14');\n",
              "        const dataTable =\n",
              "          await google.colab.kernel.invokeFunction('convertToInteractive',\n",
              "                                                    [key], {});\n",
              "        if (!dataTable) return;\n",
              "\n",
              "        const docLinkHtml = 'Like what you see? Visit the ' +\n",
              "          '<a target=\"_blank\" href=https://colab.research.google.com/notebooks/data_table.ipynb>data table notebook</a>'\n",
              "          + ' to learn more about interactive tables.';\n",
              "        element.innerHTML = '';\n",
              "        dataTable['output_type'] = 'display_data';\n",
              "        await google.colab.output.renderOutput(dataTable, element);\n",
              "        const docLink = document.createElement('div');\n",
              "        docLink.innerHTML = docLinkHtml;\n",
              "        element.appendChild(docLink);\n",
              "      }\n",
              "    </script>\n",
              "  </div>\n",
              "\n",
              "\n",
              "<div id=\"df-6398e19a-b5df-4ca1-83e3-a34f3e87028c\">\n",
              "  <button class=\"colab-df-quickchart\" onclick=\"quickchart('df-6398e19a-b5df-4ca1-83e3-a34f3e87028c')\"\n",
              "            title=\"Suggest charts\"\n",
              "            style=\"display:none;\">\n",
              "\n",
              "<svg xmlns=\"http://www.w3.org/2000/svg\" height=\"24px\"viewBox=\"0 0 24 24\"\n",
              "     width=\"24px\">\n",
              "    <g>\n",
              "        <path d=\"M19 3H5c-1.1 0-2 .9-2 2v14c0 1.1.9 2 2 2h14c1.1 0 2-.9 2-2V5c0-1.1-.9-2-2-2zM9 17H7v-7h2v7zm4 0h-2V7h2v10zm4 0h-2v-4h2v4z\"/>\n",
              "    </g>\n",
              "</svg>\n",
              "  </button>\n",
              "\n",
              "<style>\n",
              "  .colab-df-quickchart {\n",
              "      --bg-color: #E8F0FE;\n",
              "      --fill-color: #1967D2;\n",
              "      --hover-bg-color: #E2EBFA;\n",
              "      --hover-fill-color: #174EA6;\n",
              "      --disabled-fill-color: #AAA;\n",
              "      --disabled-bg-color: #DDD;\n",
              "  }\n",
              "\n",
              "  [theme=dark] .colab-df-quickchart {\n",
              "      --bg-color: #3B4455;\n",
              "      --fill-color: #D2E3FC;\n",
              "      --hover-bg-color: #434B5C;\n",
              "      --hover-fill-color: #FFFFFF;\n",
              "      --disabled-bg-color: #3B4455;\n",
              "      --disabled-fill-color: #666;\n",
              "  }\n",
              "\n",
              "  .colab-df-quickchart {\n",
              "    background-color: var(--bg-color);\n",
              "    border: none;\n",
              "    border-radius: 50%;\n",
              "    cursor: pointer;\n",
              "    display: none;\n",
              "    fill: var(--fill-color);\n",
              "    height: 32px;\n",
              "    padding: 0;\n",
              "    width: 32px;\n",
              "  }\n",
              "\n",
              "  .colab-df-quickchart:hover {\n",
              "    background-color: var(--hover-bg-color);\n",
              "    box-shadow: 0 1px 2px rgba(60, 64, 67, 0.3), 0 1px 3px 1px rgba(60, 64, 67, 0.15);\n",
              "    fill: var(--button-hover-fill-color);\n",
              "  }\n",
              "\n",
              "  .colab-df-quickchart-complete:disabled,\n",
              "  .colab-df-quickchart-complete:disabled:hover {\n",
              "    background-color: var(--disabled-bg-color);\n",
              "    fill: var(--disabled-fill-color);\n",
              "    box-shadow: none;\n",
              "  }\n",
              "\n",
              "  .colab-df-spinner {\n",
              "    border: 2px solid var(--fill-color);\n",
              "    border-color: transparent;\n",
              "    border-bottom-color: var(--fill-color);\n",
              "    animation:\n",
              "      spin 1s steps(1) infinite;\n",
              "  }\n",
              "\n",
              "  @keyframes spin {\n",
              "    0% {\n",
              "      border-color: transparent;\n",
              "      border-bottom-color: var(--fill-color);\n",
              "      border-left-color: var(--fill-color);\n",
              "    }\n",
              "    20% {\n",
              "      border-color: transparent;\n",
              "      border-left-color: var(--fill-color);\n",
              "      border-top-color: var(--fill-color);\n",
              "    }\n",
              "    30% {\n",
              "      border-color: transparent;\n",
              "      border-left-color: var(--fill-color);\n",
              "      border-top-color: var(--fill-color);\n",
              "      border-right-color: var(--fill-color);\n",
              "    }\n",
              "    40% {\n",
              "      border-color: transparent;\n",
              "      border-right-color: var(--fill-color);\n",
              "      border-top-color: var(--fill-color);\n",
              "    }\n",
              "    60% {\n",
              "      border-color: transparent;\n",
              "      border-right-color: var(--fill-color);\n",
              "    }\n",
              "    80% {\n",
              "      border-color: transparent;\n",
              "      border-right-color: var(--fill-color);\n",
              "      border-bottom-color: var(--fill-color);\n",
              "    }\n",
              "    90% {\n",
              "      border-color: transparent;\n",
              "      border-bottom-color: var(--fill-color);\n",
              "    }\n",
              "  }\n",
              "</style>\n",
              "\n",
              "  <script>\n",
              "    async function quickchart(key) {\n",
              "      const quickchartButtonEl =\n",
              "        document.querySelector('#' + key + ' button');\n",
              "      quickchartButtonEl.disabled = true;  // To prevent multiple clicks.\n",
              "      quickchartButtonEl.classList.add('colab-df-spinner');\n",
              "      try {\n",
              "        const charts = await google.colab.kernel.invokeFunction(\n",
              "            'suggestCharts', [key], {});\n",
              "      } catch (error) {\n",
              "        console.error('Error during call to suggestCharts:', error);\n",
              "      }\n",
              "      quickchartButtonEl.classList.remove('colab-df-spinner');\n",
              "      quickchartButtonEl.classList.add('colab-df-quickchart-complete');\n",
              "    }\n",
              "    (() => {\n",
              "      let quickchartButtonEl =\n",
              "        document.querySelector('#df-6398e19a-b5df-4ca1-83e3-a34f3e87028c button');\n",
              "      quickchartButtonEl.style.display =\n",
              "        google.colab.kernel.accessAllowed ? 'block' : 'none';\n",
              "    })();\n",
              "  </script>\n",
              "</div>\n",
              "\n",
              "    </div>\n",
              "  </div>\n"
            ],
            "application/vnd.google.colaboratory.intrinsic+json": {
              "type": "dataframe",
              "summary": "{\n  \"name\": \"sales_data\",\n  \"rows\": 8,\n  \"fields\": [\n    {\n      \"column\": \"TV\",\n      \"properties\": {\n        \"dtype\": \"number\",\n        \"std\": 93.12930693433862,\n        \"min\": 0.7,\n        \"max\": 296.4,\n        \"num_unique_values\": 8,\n        \"samples\": [\n          147.0425,\n          149.75,\n          200.0\n        ],\n        \"semantic_type\": \"\",\n        \"description\": \"\"\n      }\n    },\n    {\n      \"column\": \"Radio\",\n      \"properties\": {\n        \"dtype\": \"number\",\n        \"std\": 64.62946191825954,\n        \"min\": 0.0,\n        \"max\": 200.0,\n        \"num_unique_values\": 8,\n        \"samples\": [\n          23.264000000000006,\n          22.9,\n          200.0\n        ],\n        \"semantic_type\": \"\",\n        \"description\": \"\"\n      }\n    },\n    {\n      \"column\": \"Newspaper\",\n      \"properties\": {\n        \"dtype\": \"number\",\n        \"std\": 67.53295876114069,\n        \"min\": 0.3,\n        \"max\": 200.0,\n        \"num_unique_values\": 8,\n        \"samples\": [\n          30.553999999999995,\n          25.75,\n          200.0\n        ],\n        \"semantic_type\": \"\",\n        \"description\": \"\"\n      }\n    },\n    {\n      \"column\": \"Sales\",\n      \"properties\": {\n        \"dtype\": \"number\",\n        \"std\": 66.38140832735901,\n        \"min\": 1.6,\n        \"max\": 200.0,\n        \"num_unique_values\": 8,\n        \"samples\": [\n          15.130500000000001,\n          16.0,\n          200.0\n        ],\n        \"semantic_type\": \"\",\n        \"description\": \"\"\n      }\n    }\n  ]\n}"
            }
          },
          "metadata": {},
          "execution_count": 9
        }
      ]
    },
    {
      "cell_type": "code",
      "source": [
        "sns.set()"
      ],
      "metadata": {
        "id": "BROepZJlh_iJ"
      },
      "execution_count": 10,
      "outputs": []
    },
    {
      "cell_type": "code",
      "source": [
        "# TV distribution\n",
        "plt.figure(figsize = (6,6))\n",
        "sns.displot(sales_data['TV'])\n",
        "plt.show()"
      ],
      "metadata": {
        "colab": {
          "base_uri": "https://localhost:8080/",
          "height": 518
        },
        "id": "uVZETR63iQNu",
        "outputId": "a02a263a-dd0c-4336-d2dd-af855f95a2e0"
      },
      "execution_count": 11,
      "outputs": [
        {
          "output_type": "display_data",
          "data": {
            "text/plain": [
              "<Figure size 600x600 with 0 Axes>"
            ]
          },
          "metadata": {}
        },
        {
          "output_type": "display_data",
          "data": {
            "text/plain": [
              "<Figure size 500x500 with 1 Axes>"
            ],
            "image/png": "[encoded data removed]"
          },
          "metadata": {}
        }
      ]
    },
    {
      "cell_type": "markdown",
      "source": [
        "This shows majority of the companies are spending a moderate amount on TV advertising"
      ],
      "metadata": {
        "id": "9LcdnjO6kBBd"
      }
    },
    {
      "cell_type": "code",
      "source": [
        "# Radio distribution\n",
        "plt.figure(figsize = (6,6))\n",
        "sns.displot(sales_data['Radio'])\n",
        "plt.show()"
      ],
      "metadata": {
        "colab": {
          "base_uri": "https://localhost:8080/",
          "height": 518
        },
        "id": "qn92L3uJjAyF",
        "outputId": "d48146e5-95c5-4d4d-ca4f-63df50321dfe"
      },
      "execution_count": 12,
      "outputs": [
        {
          "output_type": "display_data",
          "data": {
            "text/plain": [
              "<Figure size 600x600 with 0 Axes>"
            ]
          },
          "metadata": {}
        },
        {
          "output_type": "display_data",
          "data": {
            "text/plain": [
              "<Figure size 500x500 with 1 Axes>"
            ],
            "image/png": "[encoded data removed]"
          },
          "metadata": {}
        }
      ]
    },
    {
      "cell_type": "markdown",
      "source": [
        "Thus, most companies are ready to spend a moderate amount on radio advertising as well"
      ],
      "metadata": {
        "id": "Z7Nczqb5kPr1"
      }
    },
    {
      "cell_type": "code",
      "source": [
        "# Newspaper distribution\n",
        "plt.figure(figsize = (6,6))\n",
        "sns.displot(sales_data['Newspaper'])\n",
        "plt.show()"
      ],
      "metadata": {
        "colab": {
          "base_uri": "https://localhost:8080/",
          "height": 518
        },
        "id": "E48iHP1ZjJnA",
        "outputId": "fba9c13f-29d1-4363-c584-d381708902b4"
      },
      "execution_count": 13,
      "outputs": [
        {
          "output_type": "display_data",
          "data": {
            "text/plain": [
              "<Figure size 600x600 with 0 Axes>"
            ]
          },
          "metadata": {}
        },
        {
          "output_type": "display_data",
          "data": {
            "text/plain": [
              "<Figure size 500x500 with 1 Axes>"
            ],
            "image/png": "[encoded data removed]"
          },
          "metadata": {}
        }
      ]
    },
    {
      "cell_type": "markdown",
      "source": [
        "Thus, most companies are spending a small amount on newspaper advertising."
      ],
      "metadata": {
        "id": "PGJzyTK8kejL"
      }
    },
    {
      "cell_type": "code",
      "source": [
        "# Separating features and target\n",
        "X = sales_data.drop(columns = 'Sales', axis = 1)\n",
        "Y = sales_data['Sales']"
      ],
      "metadata": {
        "id": "3H60jaJEoX5j"
      },
      "execution_count": 24,
      "outputs": []
    },
    {
      "cell_type": "code",
      "source": [
        "print(X)"
      ],
      "metadata": {
        "colab": {
          "base_uri": "https://localhost:8080/"
        },
        "id": "0uxMIO0Aq_qz",
        "outputId": "b09939b6-900c-493e-927d-a203ce6666fb"
      },
      "execution_count": 25,
      "outputs": [
        {
          "output_type": "stream",
          "name": "stdout",
          "text": [
            "        TV  Radio  Newspaper\n",
            "0    230.1   37.8       69.2\n",
            "1     44.5   39.3       45.1\n",
            "2     17.2   45.9       69.3\n",
            "3    151.5   41.3       58.5\n",
            "4    180.8   10.8       58.4\n",
            "..     ...    ...        ...\n",
            "195   38.2    3.7       13.8\n",
            "196   94.2    4.9        8.1\n",
            "197  177.0    9.3        6.4\n",
            "198  283.6   42.0       66.2\n",
            "199  232.1    8.6        8.7\n",
            "\n",
            "[200 rows x 3 columns]\n"
          ]
        }
      ]
    },
    {
      "cell_type": "code",
      "source": [
        "print(Y)"
      ],
      "metadata": {
        "colab": {
          "base_uri": "https://localhost:8080/"
        },
        "id": "LwhT0kmbrBAV",
        "outputId": "9a835fc7-9c17-4cca-8b41-ab07fd94fa14"
      },
      "execution_count": 26,
      "outputs": [
        {
          "output_type": "stream",
          "name": "stdout",
          "text": [
            "0      22.1\n",
            "1      10.4\n",
            "2      12.0\n",
            "3      16.5\n",
            "4      17.9\n",
            "       ... \n",
            "195     7.6\n",
            "196    14.0\n",
            "197    14.8\n",
            "198    25.5\n",
            "199    18.4\n",
            "Name: Sales, Length: 200, dtype: float64\n"
          ]
        }
      ]
    },
    {
      "cell_type": "code",
      "source": [
        "# Standardizing the data\n",
        "from sklearn.preprocessing import StandardScaler"
      ],
      "metadata": {
        "id": "dJQHd7K7rCPF"
      },
      "execution_count": 28,
      "outputs": []
    },
    {
      "cell_type": "code",
      "source": [
        "scaler = StandardScaler()"
      ],
      "metadata": {
        "id": "Ive0so3ZsR3t"
      },
      "execution_count": 29,
      "outputs": []
    },
    {
      "cell_type": "code",
      "source": [
        "standardized_data = scaler.fit_transform(X)"
      ],
      "metadata": {
        "id": "vFuxLX95sZtj"
      },
      "execution_count": 30,
      "outputs": []
    },
    {
      "cell_type": "code",
      "source": [
        "print(standardized_data)"
      ],
      "metadata": {
        "colab": {
          "base_uri": "https://localhost:8080/"
        },
        "id": "P0eO-TRfsiVM",
        "outputId": "2ceaea15-644f-4e60-e47a-9deb365d29e6"
      },
      "execution_count": 31,
      "outputs": [
        {
          "output_type": "stream",
          "name": "stdout",
          "text": [
            "[[ 9.69852266e-01  9.81522472e-01  1.77894547e+00]\n",
            " [-1.19737623e+00  1.08280781e+00  6.69578760e-01]\n",
            " [-1.51615499e+00  1.52846331e+00  1.78354865e+00]\n",
            " [ 5.20496822e-02  1.21785493e+00  1.28640506e+00]\n",
            " [ 3.94182198e-01 -8.41613655e-01  1.28180188e+00]\n",
            " [-1.61540845e+00  1.73103399e+00  2.04592999e+00]\n",
            " [-1.04557682e+00  6.43904671e-01 -3.24708413e-01]\n",
            " [-3.13436589e-01 -2.47406325e-01 -8.72486994e-01]\n",
            " [-1.61657614e+00 -1.42906863e+00 -1.36042422e+00]\n",
            " [ 6.16042873e-01 -1.39530685e+00 -4.30581584e-01]\n",
            " [-9.45155670e-01 -1.17923146e+00 -2.92486143e-01]\n",
            " [ 7.90028350e-01  4.96973404e-02 -1.22232878e+00]\n",
            " [-1.43908760e+00  7.99208859e-01  1.62704048e+00]\n",
            " [-5.78501712e-01 -1.05768905e+00 -1.07502697e+00]\n",
            " [ 6.66253447e-01  6.50657027e-01  7.11007392e-01]\n",
            " [ 5.64664612e-01  1.65000572e+00  1.02862691e+00]\n",
            " [-9.25304978e-01  9.00494200e-01  3.84117072e+00]\n",
            " [ 1.56887609e+00  1.10306488e+00  1.16211917e+00]\n",
            " [-9.08957349e-01 -1.86635121e-01 -5.64073843e-01]\n",
            " [ 3.00679600e-03  4.29449843e-02 -5.27248393e-01]\n",
            " [ 8.33232798e-01  2.99534513e-01  1.05164281e+00]\n",
            " [ 1.05509347e+00 -1.22649795e+00 -3.24708413e-01]\n",
            " [-1.56286250e+00 -4.97243498e-01  8.76721921e-01]\n",
            " [ 9.48833887e-01 -4.29719938e-01 -2.00422516e-01]\n",
            " [-9.89527805e-01 -7.20071247e-01 -5.64073843e-01]\n",
            " [ 1.35285385e+00 -1.33453565e+00 -5.08835667e-01]\n",
            " [-4.83714657e-02  4.07572210e-01 -8.26455181e-01]\n",
            " [ 1.08662104e+00 -4.43224650e-01 -3.52327501e-01]\n",
            " [ 1.18820988e+00  2.59020377e-01 -3.52327501e-01]\n",
            " [-8.92609721e-01 -4.90491142e-01  4.71641962e-01]\n",
            " [ 1.70316018e+00  3.40048650e-01  5.82118314e-01]\n",
            " [-3.98677796e-01 -3.95958157e-01  3.70371972e-01]\n",
            " [-5.82004775e-01 -1.46958277e+00 -2.55016247e-02]\n",
            " [ 1.38438142e+00 -2.20396901e-01 -1.39264649e+00]\n",
            " [-5.99520091e-01 -1.47633512e+00 -1.06582061e+00]\n",
            " [ 1.67747105e+00 -1.29402151e+00 -1.01518562e+00]\n",
            " [ 1.39956136e+00  1.38666383e+00 -1.17629696e+00]\n",
            " [-8.44734522e-01  1.76479577e+00  6.97197848e-01]\n",
            " [-1.21372386e+00  2.32010953e-01  2.09260624e-01]\n",
            " [ 9.45330823e-01  9.74770116e-01  6.65620024e-02]\n",
            " [ 6.47570443e-01 -6.50927121e-02  4.81492770e-02]\n",
            " [ 3.49810063e-01  6.84418807e-01  3.74975153e-01]\n",
            " [ 1.71133400e+00  2.99534513e-01 -1.32359877e+00]\n",
            " [ 6.98948705e-01 -1.00367020e+00 -1.91216154e-01]\n",
            " [-1.42390765e+00  1.64487393e-01  5.86721496e-01]\n",
            " [ 3.27623995e-01 -5.15880000e-02  4.35460956e-02]\n",
            " [-6.69581357e-01 -9.02384859e-01  2.36879713e-01]\n",
            " [ 1.08428567e+00  1.23135965e+00 -5.54867481e-01]\n",
            " [ 9.35989321e-01 -5.03995854e-01  8.90531465e-01]\n",
            " [-9.35814168e-01 -7.80842451e-01  2.87514708e-01]\n",
            " [ 6.16042873e-01 -1.36154507e+00  1.86244718e-01]\n",
            " [-5.44638766e-01 -9.22641928e-01 -1.24074150e+00]\n",
            " [ 8.09879042e-01  1.24486436e+00  4.16403786e-01]\n",
            " [ 4.15200577e-01  1.54872038e+00  1.29561142e+00]\n",
            " [ 1.35051848e+00  3.73810430e-01 -6.74550196e-01]\n",
            " [ 6.05533683e-01  1.76479577e+00  1.35545278e+00]\n",
            " [-1.63175608e+00  3.26543937e-01  4.99261050e-01]\n",
            " [-1.26606546e-01 -2.74415749e-01 -6.42327927e-01]\n",
            " [ 7.44488528e-01  1.77830048e+00  3.28943340e-01]\n",
            " [ 7.43320840e-01  4.21076922e-01 -9.78360166e-01]\n",
            " [-1.09228433e+00 -1.43582099e+00 -4.21375221e-01]\n",
            " [ 1.33417085e+00  1.31238792e+00  1.11148417e+00]\n",
            " [ 1.07727954e+00 -5.24252922e-01 -1.49787521e-01]\n",
            " [-5.17781948e-01  4.27829278e-01 -1.01978880e+00]\n",
            " [-1.86158622e-01  1.31914027e+00 -7.61366196e-02]\n",
            " [-9.11292725e-01 -9.42898996e-01 -1.36502740e+00]\n",
            " [-1.34917564e+00  9.02114765e-02 -1.30518604e+00]\n",
            " [-9.04082253e-02 -5.91776482e-01 -9.36931533e-01]\n",
            " [ 1.05509347e+00  2.86029801e-01 -9.00106083e-01]\n",
            " [ 8.14549794e-01  1.39341619e+00 -1.54390703e-01]\n",
            " [ 6.07869059e-01  4.95352838e-01  3.74975153e-01]\n",
            " [-4.34876116e-01 -6.05281194e-01  5.27524584e-02]\n",
            " [-1.40405696e+00  6.57409383e-01 -5.18042030e-01]\n",
            " [-2.06009314e-01 -1.18598381e+00  3.43397329e-02]\n",
            " [ 7.74848409e-01  9.02114765e-02 -8.03439274e-01]\n",
            " [-1.51965805e+00  1.37991148e+00  2.70878810e+00]\n",
            " [-1.39588315e+00 -1.46283041e+00 -4.53597491e-01]\n",
            " [-3.09933525e-01  3.53553362e-01 -7.52804279e-01]\n",
            " [-1.65394214e+00  4.48086346e-01 -9.73756984e-01]\n",
            " [-3.62479475e-01 -1.05093669e+00 -3.43121138e-01]\n",
            " [-8.24883830e-01  2.32010953e-01 -3.79946589e-01]\n",
            " [ 1.08311798e+00 -1.29402151e+00  2.92117889e-01]\n",
            " [-8.37728396e-01 -2.00139833e-01  8.95779092e-02]\n",
            " [-9.18298852e-01  1.43393033e+00  2.32276531e-01]\n",
            " [ 7.76016097e-01  1.33264499e+00  1.49419267e-01]\n",
            " [ 5.38975481e-01 -3.28434597e-01  1.61783412e+00]\n",
            " [-8.26051518e-01  2.86029801e-01 -6.69947015e-01]\n",
            " [-4.24366926e-01  1.17058844e+00  1.50275459e+00]\n",
            " [-6.85928986e-01  1.50982681e-01  1.97227908e+00]\n",
            " [-4.34876116e-01  1.65675807e+00  9.59579186e-01]\n",
            " [-1.48792614e-01 -1.24000266e+00 -9.78360166e-01]\n",
            " [-1.38303858e+00 -1.46958277e+00  1.12593816e-01]\n",
            " [ 8.25058983e-01  6.91171163e-01  1.30942097e+00]\n",
            " [ 1.21273132e+00  8.93741844e-01  1.92164409e+00]\n",
            " [-4.62900623e-01 -6.25538262e-01 -9.04709264e-01]\n",
            " [ 1.89836839e-01  5.62876398e-01  1.02862691e+00]\n",
            " [ 5.90353742e-01 -1.33453565e+00 -1.13486833e+00]\n",
            " [ 4.42057396e-01 -1.52873340e-01 -3.93756133e-01]\n",
            " [ 1.66579418e+00  1.28537849e+00  9.50372823e-01]\n",
            " [-1.38283424e-01  1.24486436e+00  7.06404211e-01]\n",
            " [ 8.79940308e-01 -1.28051680e+00  8.85928284e-01]\n",
            " [ 1.74402926e+00  8.80237132e-01  3.23815396e+00]\n",
            " [ 1.55486384e+00 -8.88880147e-01 -4.21375221e-01]\n",
            " [ 4.77088029e-01 -4.09462869e-01 -5.82486569e-01]\n",
            " [ 1.06443498e+00  7.45190011e-01 -1.16248742e+00]\n",
            " [-1.06755854e-01  1.56222509e+00  1.30942097e+00]\n",
            " [-1.42507534e+00 -8.28108943e-01 -3.93111688e-02]\n",
            " [-6.61407543e-01 -1.55061104e+00 -3.38517957e-01]\n",
            " [-1.56403019e+00 -1.54385868e+00 -2.28041604e-01]\n",
            " [ 1.26527727e+00  2.45515665e-01 -1.15328106e+00]\n",
            " [ 9.19641692e-01 -1.01717491e+00  1.19434143e+00]\n",
            " [ 1.10530405e+00  9.95027184e-01 -3.38517957e-01]\n",
            " [ 3.34630122e-01 -5.31005278e-01 -1.29597968e+00]\n",
            " [ 7.30476274e-01 -1.79882765e-01 -9.13915627e-01]\n",
            " [-8.03865450e-01  1.58923451e+00  1.81641536e-01]\n",
            " [-8.40063771e-01  7.92456503e-01  1.01942054e+00]\n",
            " [-9.15759131e-02 -6.05281194e-01 -2.28041604e-01]\n",
            " [-8.24883830e-01 -1.51684926e+00 -7.25185191e-01]\n",
            " [-2.49213762e-01  9.20751268e-01  2.23926360e+00]\n",
            " [-1.49046586e+00 -4.90491142e-01 -3.79946589e-01]\n",
            " [-6.70544700e-02  2.38763309e-01  7.20213755e-01]\n",
            " [-1.49747198e+00 -1.05606848e-01  9.13547372e-01]\n",
            " [ 8.98623313e-01 -1.40881156e+00 -6.88359740e-01]\n",
            " [-2.79573643e-01  7.65447079e-01 -8.35661544e-01]\n",
            " [ 9.62846140e-01  6.10142891e-01  2.00910454e+00]\n",
            " [-6.98773552e-01 -7.74090095e-01 -2.14232060e-01]\n",
            " [-1.62591764e+00  1.05579839e+00  9.22753735e-01]\n",
            " [-7.80511695e-01 -1.57086811e+00 -9.82963347e-01]\n",
            " [ 8.55418865e-01  1.73778635e+00 -1.25915423e+00]\n",
            " [-1.02105537e+00 -7.60585383e-01  5.77515133e-01]\n",
            " [-1.70882347e+00  1.10306488e+00 -1.00597925e+00]\n",
            " [ 1.37971067e+00 -1.37504978e+00  5.72911952e-01]\n",
            " [-1.61891151e+00  2.65772733e-01 -1.30978922e+00]\n",
            " [ 8.49580427e-01  6.91171163e-01  6.69578760e-01]\n",
            " [-1.28612050e+00  1.03554132e+00  1.61323094e+00]\n",
            " [-1.15300409e+00  1.60273923e+00 -1.01518562e+00]\n",
            " [-1.41806922e+00  1.06255074e+00 -9.78360166e-01]\n",
            " [ 1.47896413e+00  3.80562786e-01  1.34164324e+00]\n",
            " [-1.21489154e+00  1.77992105e-01 -4.62803854e-01]\n",
            " [ 4.42057396e-01  1.39341619e+00 -1.32820195e+00]\n",
            " [-8.59914463e-01 -4.22967582e-01 -8.12645637e-01]\n",
            " [ 5.44813920e-01  8.19465927e-01  2.07354907e+00]\n",
            " [ 8.57754241e-01  6.70914095e-01  3.38149702e-01]\n",
            " [-4.95595880e-01 -1.18598381e+00  1.77038355e-01]\n",
            " [-5.93681653e-01 -5.71519414e-01  3.84181516e-01]\n",
            " [-7.87313476e-02 -1.44257334e+00 -9.92169710e-01]\n",
            " [ 1.08662104e+00 -1.07794612e+00 -1.00597925e+00]\n",
            " [ 1.12281936e+00  1.73778635e+00  6.32753309e-01]\n",
            " [-1.27327593e+00  1.15033137e+00 -8.58677450e-01]\n",
            " [-1.19504085e+00  1.71239749e-01 -4.58200672e-01]\n",
            " [ 1.56070228e+00 -6.32290618e-01  2.96721070e-01]\n",
            " [-3.04095087e-01 -1.00367020e+00  8.35293289e-01]\n",
            " [ 5.90353742e-01  2.43084817e-03 -7.52804279e-01]\n",
            " [ 2.83251860e-01  1.10981724e+00  3.28943340e-01]\n",
            " [ 4.75920341e-01 -1.46120984e-01 -9.69153803e-01]\n",
            " [-1.66912209e+00 -7.87594807e-01 -1.14407469e+00]\n",
            " [-6.20538471e-01  1.36640677e+00  9.18150553e-01]\n",
            " [ 3.21989902e-02 -1.48308748e+00 -2.87882962e-01]\n",
            " [-1.58037782e+00  9.20751268e-01  6.74181942e-01]\n",
            " [-1.79152496e-01 -3.28434597e-01  1.86244718e-01]\n",
            " [ 2.97264113e-01 -3.48691665e-01  6.72064478e-03]\n",
            " [-7.16288868e-01  8.46475352e-01  8.62912377e-01]\n",
            " [ 4.82926468e-01 -3.48691665e-01 -2.28041604e-01]\n",
            " [ 1.92172214e-01  9.13998912e-01 -1.06582061e+00]\n",
            " [-3.48467222e-01 -5.78271770e-01 -1.15788424e+00]\n",
            " [ 1.02123053e+00 -1.34128800e+00  2.49704176e+00]\n",
            " [-1.50798117e+00  9.68017760e-01 -4.12168859e-01]\n",
            " [ 6.97781017e-01 -1.21974559e+00 -5.13438849e-01]\n",
            " [ 7.98202165e-01  2.26879163e-02  1.24497643e+00]\n",
            " [ 1.60273904e+00 -8.55118367e-01 -1.11185242e+00]\n",
            " [-1.13315340e+00 -7.87594807e-01 -5.59470662e-01]\n",
            " [ 2.03849092e-01 -1.59625696e-01  7.75451931e-01]\n",
            " [-1.48813048e+00 -2.13644545e-01 -6.23915201e-01]\n",
            " [ 2.49388915e-01 -1.09145083e+00 -8.17248818e-01]\n",
            " [ 8.79940308e-01 -1.34128800e+00 -8.03439274e-01]\n",
            " [ 1.51633014e+00  1.73103399e+00  5.17673775e-01]\n",
            " [ 1.18353913e+00  4.68343414e-01 -4.72010216e-01]\n",
            " [ 2.70407294e-01 -1.04418434e+00  2.13863806e-01]\n",
            " [ 1.51399477e+00 -1.41556392e+00 -3.15502050e-01]\n",
            " [ 2.16693657e-01 -8.95632503e-01 -5.96296113e-01]\n",
            " [ 1.11601758e-01 -1.39530685e+00 -1.02439198e+00]\n",
            " [ 8.34400486e-01 -1.20624088e+00 -1.45184340e-01]\n",
            " [-1.06075676e+00 -1.18598381e+00 -3.93111688e-02]\n",
            " [ 1.64127273e+00  1.33264499e+00  1.89862818e+00]\n",
            " [ 1.24659427e+00 -1.32616272e-01 -2.55016247e-02]\n",
            " [ 6.76762637e-01  1.47444446e+00 -5.04232486e-01]\n",
            " [-8.80728498e-02 -1.42906863e+00 -1.82009791e-01]\n",
            " [ 5.14454038e-01  3.67058074e-01 -5.68677025e-01]\n",
            " [ 1.62258973e+00 -6.32290618e-01 -1.23613832e+00]\n",
            " [-1.49863967e+00 -7.53833027e-01 -3.29311594e-01]\n",
            " [-1.25576062e+00  1.20435022e+00 -1.13947151e+00]\n",
            " [-8.35393020e-01 -8.41613655e-01 -1.13026515e+00]\n",
            " [-1.51615499e+00 -1.29402151e+00  4.81492770e-02]\n",
            " [ 2.30705910e-01  1.26512143e+00 -1.24074150e+00]\n",
            " [ 3.10313024e-02  8.32970639e-01 -1.13026515e+00]\n",
            " [-1.27094056e+00 -1.32103093e+00 -7.71217005e-01]\n",
            " [-6.17035408e-01 -1.24000266e+00 -1.03359834e+00]\n",
            " [ 3.49810063e-01 -9.42898996e-01 -1.11185242e+00]\n",
            " [ 1.59456522e+00  1.26512143e+00  1.64085003e+00]\n",
            " [ 9.93206022e-01 -9.90165488e-01 -1.00597925e+00]]\n"
          ]
        }
      ]
    },
    {
      "cell_type": "code",
      "source": [
        "X = standardized_data\n",
        "print(X)"
      ],
      "metadata": {
        "colab": {
          "base_uri": "https://localhost:8080/"
        },
        "id": "0wcNn2Xtslgr",
        "outputId": "1b5ba9aa-3be2-4e91-9cae-c368c7225a51"
      },
      "execution_count": 32,
      "outputs": [
        {
          "output_type": "stream",
          "name": "stdout",
          "text": [
            "[[ 9.69852266e-01  9.81522472e-01  1.77894547e+00]\n",
            " [-1.19737623e+00  1.08280781e+00  6.69578760e-01]\n",
            " [-1.51615499e+00  1.52846331e+00  1.78354865e+00]\n",
            " [ 5.20496822e-02  1.21785493e+00  1.28640506e+00]\n",
            " [ 3.94182198e-01 -8.41613655e-01  1.28180188e+00]\n",
            " [-1.61540845e+00  1.73103399e+00  2.04592999e+00]\n",
            " [-1.04557682e+00  6.43904671e-01 -3.24708413e-01]\n",
            " [-3.13436589e-01 -2.47406325e-01 -8.72486994e-01]\n",
            " [-1.61657614e+00 -1.42906863e+00 -1.36042422e+00]\n",
            " [ 6.16042873e-01 -1.39530685e+00 -4.30581584e-01]\n",
            " [-9.45155670e-01 -1.17923146e+00 -2.92486143e-01]\n",
            " [ 7.90028350e-01  4.96973404e-02 -1.22232878e+00]\n",
            " [-1.43908760e+00  7.99208859e-01  1.62704048e+00]\n",
            " [-5.78501712e-01 -1.05768905e+00 -1.07502697e+00]\n",
            " [ 6.66253447e-01  6.50657027e-01  7.11007392e-01]\n",
            " [ 5.64664612e-01  1.65000572e+00  1.02862691e+00]\n",
            " [-9.25304978e-01  9.00494200e-01  3.84117072e+00]\n",
            " [ 1.56887609e+00  1.10306488e+00  1.16211917e+00]\n",
            " [-9.08957349e-01 -1.86635121e-01 -5.64073843e-01]\n",
            " [ 3.00679600e-03  4.29449843e-02 -5.27248393e-01]\n",
            " [ 8.33232798e-01  2.99534513e-01  1.05164281e+00]\n",
            " [ 1.05509347e+00 -1.22649795e+00 -3.24708413e-01]\n",
            " [-1.56286250e+00 -4.97243498e-01  8.76721921e-01]\n",
            " [ 9.48833887e-01 -4.29719938e-01 -2.00422516e-01]\n",
            " [-9.89527805e-01 -7.20071247e-01 -5.64073843e-01]\n",
            " [ 1.35285385e+00 -1.33453565e+00 -5.08835667e-01]\n",
            " [-4.83714657e-02  4.07572210e-01 -8.26455181e-01]\n",
            " [ 1.08662104e+00 -4.43224650e-01 -3.52327501e-01]\n",
            " [ 1.18820988e+00  2.59020377e-01 -3.52327501e-01]\n",
            " [-8.92609721e-01 -4.90491142e-01  4.71641962e-01]\n",
            " [ 1.70316018e+00  3.40048650e-01  5.82118314e-01]\n",
            " [-3.98677796e-01 -3.95958157e-01  3.70371972e-01]\n",
            " [-5.82004775e-01 -1.46958277e+00 -2.55016247e-02]\n",
            " [ 1.38438142e+00 -2.20396901e-01 -1.39264649e+00]\n",
            " [-5.99520091e-01 -1.47633512e+00 -1.06582061e+00]\n",
            " [ 1.67747105e+00 -1.29402151e+00 -1.01518562e+00]\n",
            " [ 1.39956136e+00  1.38666383e+00 -1.17629696e+00]\n",
            " [-8.44734522e-01  1.76479577e+00  6.97197848e-01]\n",
            " [-1.21372386e+00  2.32010953e-01  2.09260624e-01]\n",
            " [ 9.45330823e-01  9.74770116e-01  6.65620024e-02]\n",
            " [ 6.47570443e-01 -6.50927121e-02  4.81492770e-02]\n",
            " [ 3.49810063e-01  6.84418807e-01  3.74975153e-01]\n",
            " [ 1.71133400e+00  2.99534513e-01 -1.32359877e+00]\n",
            " [ 6.98948705e-01 -1.00367020e+00 -1.91216154e-01]\n",
            " [-1.42390765e+00  1.64487393e-01  5.86721496e-01]\n",
            " [ 3.27623995e-01 -5.15880000e-02  4.35460956e-02]\n",
            " [-6.69581357e-01 -9.02384859e-01  2.36879713e-01]\n",
            " [ 1.08428567e+00  1.23135965e+00 -5.54867481e-01]\n",
            " [ 9.35989321e-01 -5.03995854e-01  8.90531465e-01]\n",
            " [-9.35814168e-01 -7.80842451e-01  2.87514708e-01]\n",
            " [ 6.16042873e-01 -1.36154507e+00  1.86244718e-01]\n",
            " [-5.44638766e-01 -9.22641928e-01 -1.24074150e+00]\n",
            " [ 8.09879042e-01  1.24486436e+00  4.16403786e-01]\n",
            " [ 4.15200577e-01  1.54872038e+00  1.29561142e+00]\n",
            " [ 1.35051848e+00  3.73810430e-01 -6.74550196e-01]\n",
            " [ 6.05533683e-01  1.76479577e+00  1.35545278e+00]\n",
            " [-1.63175608e+00  3.26543937e-01  4.99261050e-01]\n",
            " [-1.26606546e-01 -2.74415749e-01 -6.42327927e-01]\n",
            " [ 7.44488528e-01  1.77830048e+00  3.28943340e-01]\n",
            " [ 7.43320840e-01  4.21076922e-01 -9.78360166e-01]\n",
            " [-1.09228433e+00 -1.43582099e+00 -4.21375221e-01]\n",
            " [ 1.33417085e+00  1.31238792e+00  1.11148417e+00]\n",
            " [ 1.07727954e+00 -5.24252922e-01 -1.49787521e-01]\n",
            " [-5.17781948e-01  4.27829278e-01 -1.01978880e+00]\n",
            " [-1.86158622e-01  1.31914027e+00 -7.61366196e-02]\n",
            " [-9.11292725e-01 -9.42898996e-01 -1.36502740e+00]\n",
            " [-1.34917564e+00  9.02114765e-02 -1.30518604e+00]\n",
            " [-9.04082253e-02 -5.91776482e-01 -9.36931533e-01]\n",
            " [ 1.05509347e+00  2.86029801e-01 -9.00106083e-01]\n",
            " [ 8.14549794e-01  1.39341619e+00 -1.54390703e-01]\n",
            " [ 6.07869059e-01  4.95352838e-01  3.74975153e-01]\n",
            " [-4.34876116e-01 -6.05281194e-01  5.27524584e-02]\n",
            " [-1.40405696e+00  6.57409383e-01 -5.18042030e-01]\n",
            " [-2.06009314e-01 -1.18598381e+00  3.43397329e-02]\n",
            " [ 7.74848409e-01  9.02114765e-02 -8.03439274e-01]\n",
            " [-1.51965805e+00  1.37991148e+00  2.70878810e+00]\n",
            " [-1.39588315e+00 -1.46283041e+00 -4.53597491e-01]\n",
            " [-3.09933525e-01  3.53553362e-01 -7.52804279e-01]\n",
            " [-1.65394214e+00  4.48086346e-01 -9.73756984e-01]\n",
            " [-3.62479475e-01 -1.05093669e+00 -3.43121138e-01]\n",
            " [-8.24883830e-01  2.32010953e-01 -3.79946589e-01]\n",
            " [ 1.08311798e+00 -1.29402151e+00  2.92117889e-01]\n",
            " [-8.37728396e-01 -2.00139833e-01  8.95779092e-02]\n",
            " [-9.18298852e-01  1.43393033e+00  2.32276531e-01]\n",
            " [ 7.76016097e-01  1.33264499e+00  1.49419267e-01]\n",
            " [ 5.38975481e-01 -3.28434597e-01  1.61783412e+00]\n",
            " [-8.26051518e-01  2.86029801e-01 -6.69947015e-01]\n",
            " [-4.24366926e-01  1.17058844e+00  1.50275459e+00]\n",
            " [-6.85928986e-01  1.50982681e-01  1.97227908e+00]\n",
            " [-4.34876116e-01  1.65675807e+00  9.59579186e-01]\n",
            " [-1.48792614e-01 -1.24000266e+00 -9.78360166e-01]\n",
            " [-1.38303858e+00 -1.46958277e+00  1.12593816e-01]\n",
            " [ 8.25058983e-01  6.91171163e-01  1.30942097e+00]\n",
            " [ 1.21273132e+00  8.93741844e-01  1.92164409e+00]\n",
            " [-4.62900623e-01 -6.25538262e-01 -9.04709264e-01]\n",
            " [ 1.89836839e-01  5.62876398e-01  1.02862691e+00]\n",
            " [ 5.90353742e-01 -1.33453565e+00 -1.13486833e+00]\n",
            " [ 4.42057396e-01 -1.52873340e-01 -3.93756133e-01]\n",
            " [ 1.66579418e+00  1.28537849e+00  9.50372823e-01]\n",
            " [-1.38283424e-01  1.24486436e+00  7.06404211e-01]\n",
            " [ 8.79940308e-01 -1.28051680e+00  8.85928284e-01]\n",
            " [ 1.74402926e+00  8.80237132e-01  3.23815396e+00]\n",
            " [ 1.55486384e+00 -8.88880147e-01 -4.21375221e-01]\n",
            " [ 4.77088029e-01 -4.09462869e-01 -5.82486569e-01]\n",
            " [ 1.06443498e+00  7.45190011e-01 -1.16248742e+00]\n",
            " [-1.06755854e-01  1.56222509e+00  1.30942097e+00]\n",
            " [-1.42507534e+00 -8.28108943e-01 -3.93111688e-02]\n",
            " [-6.61407543e-01 -1.55061104e+00 -3.38517957e-01]\n",
            " [-1.56403019e+00 -1.54385868e+00 -2.28041604e-01]\n",
            " [ 1.26527727e+00  2.45515665e-01 -1.15328106e+00]\n",
            " [ 9.19641692e-01 -1.01717491e+00  1.19434143e+00]\n",
            " [ 1.10530405e+00  9.95027184e-01 -3.38517957e-01]\n",
            " [ 3.34630122e-01 -5.31005278e-01 -1.29597968e+00]\n",
            " [ 7.30476274e-01 -1.79882765e-01 -9.13915627e-01]\n",
            " [-8.03865450e-01  1.58923451e+00  1.81641536e-01]\n",
            " [-8.40063771e-01  7.92456503e-01  1.01942054e+00]\n",
            " [-9.15759131e-02 -6.05281194e-01 -2.28041604e-01]\n",
            " [-8.24883830e-01 -1.51684926e+00 -7.25185191e-01]\n",
            " [-2.49213762e-01  9.20751268e-01  2.23926360e+00]\n",
            " [-1.49046586e+00 -4.90491142e-01 -3.79946589e-01]\n",
            " [-6.70544700e-02  2.38763309e-01  7.20213755e-01]\n",
            " [-1.49747198e+00 -1.05606848e-01  9.13547372e-01]\n",
            " [ 8.98623313e-01 -1.40881156e+00 -6.88359740e-01]\n",
            " [-2.79573643e-01  7.65447079e-01 -8.35661544e-01]\n",
            " [ 9.62846140e-01  6.10142891e-01  2.00910454e+00]\n",
            " [-6.98773552e-01 -7.74090095e-01 -2.14232060e-01]\n",
            " [-1.62591764e+00  1.05579839e+00  9.22753735e-01]\n",
            " [-7.80511695e-01 -1.57086811e+00 -9.82963347e-01]\n",
            " [ 8.55418865e-01  1.73778635e+00 -1.25915423e+00]\n",
            " [-1.02105537e+00 -7.60585383e-01  5.77515133e-01]\n",
            " [-1.70882347e+00  1.10306488e+00 -1.00597925e+00]\n",
            " [ 1.37971067e+00 -1.37504978e+00  5.72911952e-01]\n",
            " [-1.61891151e+00  2.65772733e-01 -1.30978922e+00]\n",
            " [ 8.49580427e-01  6.91171163e-01  6.69578760e-01]\n",
            " [-1.28612050e+00  1.03554132e+00  1.61323094e+00]\n",
            " [-1.15300409e+00  1.60273923e+00 -1.01518562e+00]\n",
            " [-1.41806922e+00  1.06255074e+00 -9.78360166e-01]\n",
            " [ 1.47896413e+00  3.80562786e-01  1.34164324e+00]\n",
            " [-1.21489154e+00  1.77992105e-01 -4.62803854e-01]\n",
            " [ 4.42057396e-01  1.39341619e+00 -1.32820195e+00]\n",
            " [-8.59914463e-01 -4.22967582e-01 -8.12645637e-01]\n",
            " [ 5.44813920e-01  8.19465927e-01  2.07354907e+00]\n",
            " [ 8.57754241e-01  6.70914095e-01  3.38149702e-01]\n",
            " [-4.95595880e-01 -1.18598381e+00  1.77038355e-01]\n",
            " [-5.93681653e-01 -5.71519414e-01  3.84181516e-01]\n",
            " [-7.87313476e-02 -1.44257334e+00 -9.92169710e-01]\n",
            " [ 1.08662104e+00 -1.07794612e+00 -1.00597925e+00]\n",
            " [ 1.12281936e+00  1.73778635e+00  6.32753309e-01]\n",
            " [-1.27327593e+00  1.15033137e+00 -8.58677450e-01]\n",
            " [-1.19504085e+00  1.71239749e-01 -4.58200672e-01]\n",
            " [ 1.56070228e+00 -6.32290618e-01  2.96721070e-01]\n",
            " [-3.04095087e-01 -1.00367020e+00  8.35293289e-01]\n",
            " [ 5.90353742e-01  2.43084817e-03 -7.52804279e-01]\n",
            " [ 2.83251860e-01  1.10981724e+00  3.28943340e-01]\n",
            " [ 4.75920341e-01 -1.46120984e-01 -9.69153803e-01]\n",
            " [-1.66912209e+00 -7.87594807e-01 -1.14407469e+00]\n",
            " [-6.20538471e-01  1.36640677e+00  9.18150553e-01]\n",
            " [ 3.21989902e-02 -1.48308748e+00 -2.87882962e-01]\n",
            " [-1.58037782e+00  9.20751268e-01  6.74181942e-01]\n",
            " [-1.79152496e-01 -3.28434597e-01  1.86244718e-01]\n",
            " [ 2.97264113e-01 -3.48691665e-01  6.72064478e-03]\n",
            " [-7.16288868e-01  8.46475352e-01  8.62912377e-01]\n",
            " [ 4.82926468e-01 -3.48691665e-01 -2.28041604e-01]\n",
            " [ 1.92172214e-01  9.13998912e-01 -1.06582061e+00]\n",
            " [-3.48467222e-01 -5.78271770e-01 -1.15788424e+00]\n",
            " [ 1.02123053e+00 -1.34128800e+00  2.49704176e+00]\n",
            " [-1.50798117e+00  9.68017760e-01 -4.12168859e-01]\n",
            " [ 6.97781017e-01 -1.21974559e+00 -5.13438849e-01]\n",
            " [ 7.98202165e-01  2.26879163e-02  1.24497643e+00]\n",
            " [ 1.60273904e+00 -8.55118367e-01 -1.11185242e+00]\n",
            " [-1.13315340e+00 -7.87594807e-01 -5.59470662e-01]\n",
            " [ 2.03849092e-01 -1.59625696e-01  7.75451931e-01]\n",
            " [-1.48813048e+00 -2.13644545e-01 -6.23915201e-01]\n",
            " [ 2.49388915e-01 -1.09145083e+00 -8.17248818e-01]\n",
            " [ 8.79940308e-01 -1.34128800e+00 -8.03439274e-01]\n",
            " [ 1.51633014e+00  1.73103399e+00  5.17673775e-01]\n",
            " [ 1.18353913e+00  4.68343414e-01 -4.72010216e-01]\n",
            " [ 2.70407294e-01 -1.04418434e+00  2.13863806e-01]\n",
            " [ 1.51399477e+00 -1.41556392e+00 -3.15502050e-01]\n",
            " [ 2.16693657e-01 -8.95632503e-01 -5.96296113e-01]\n",
            " [ 1.11601758e-01 -1.39530685e+00 -1.02439198e+00]\n",
            " [ 8.34400486e-01 -1.20624088e+00 -1.45184340e-01]\n",
            " [-1.06075676e+00 -1.18598381e+00 -3.93111688e-02]\n",
            " [ 1.64127273e+00  1.33264499e+00  1.89862818e+00]\n",
            " [ 1.24659427e+00 -1.32616272e-01 -2.55016247e-02]\n",
            " [ 6.76762637e-01  1.47444446e+00 -5.04232486e-01]\n",
            " [-8.80728498e-02 -1.42906863e+00 -1.82009791e-01]\n",
            " [ 5.14454038e-01  3.67058074e-01 -5.68677025e-01]\n",
            " [ 1.62258973e+00 -6.32290618e-01 -1.23613832e+00]\n",
            " [-1.49863967e+00 -7.53833027e-01 -3.29311594e-01]\n",
            " [-1.25576062e+00  1.20435022e+00 -1.13947151e+00]\n",
            " [-8.35393020e-01 -8.41613655e-01 -1.13026515e+00]\n",
            " [-1.51615499e+00 -1.29402151e+00  4.81492770e-02]\n",
            " [ 2.30705910e-01  1.26512143e+00 -1.24074150e+00]\n",
            " [ 3.10313024e-02  8.32970639e-01 -1.13026515e+00]\n",
            " [-1.27094056e+00 -1.32103093e+00 -7.71217005e-01]\n",
            " [-6.17035408e-01 -1.24000266e+00 -1.03359834e+00]\n",
            " [ 3.49810063e-01 -9.42898996e-01 -1.11185242e+00]\n",
            " [ 1.59456522e+00  1.26512143e+00  1.64085003e+00]\n",
            " [ 9.93206022e-01 -9.90165488e-01 -1.00597925e+00]]\n"
          ]
        }
      ]
    },
    {
      "cell_type": "code",
      "source": [
        "# Splitting the data into training and testing\n",
        "# We will take  20 percentage as testing data and remaining 80 percentage as training data\n",
        "X_train, X_test, Y_train, Y_test = train_test_split(X, Y, test_size = 0.2, random_state = 2)"
      ],
      "metadata": {
        "id": "mQq06QM-suhd"
      },
      "execution_count": 34,
      "outputs": []
    },
    {
      "cell_type": "code",
      "source": [
        "print(X.shape, X_train.shape, X_test.shape)"
      ],
      "metadata": {
        "colab": {
          "base_uri": "https://localhost:8080/"
        },
        "id": "NcuIextTtNrK",
        "outputId": "5a9cb1bc-a55a-425c-fea9-31fc117817e8"
      },
      "execution_count": 35,
      "outputs": [
        {
          "output_type": "stream",
          "name": "stdout",
          "text": [
            "(200, 3) (160, 3) (40, 3)\n"
          ]
        }
      ]
    },
    {
      "cell_type": "code",
      "source": [
        "print(Y.shape, Y_train.shape, Y_test.shape)"
      ],
      "metadata": {
        "colab": {
          "base_uri": "https://localhost:8080/"
        },
        "id": "oODfqsWntyGd",
        "outputId": "a34fbd93-e078-4d28-d8b9-2fc2f91e92d1"
      },
      "execution_count": 36,
      "outputs": [
        {
          "output_type": "stream",
          "name": "stdout",
          "text": [
            "(200,) (160,) (40,)\n"
          ]
        }
      ]
    },
    {
      "cell_type": "markdown",
      "source": [
        "Training our ML model with XGBoost Regressor"
      ],
      "metadata": {
        "id": "R9eowDMDuEZV"
      }
    },
    {
      "cell_type": "code",
      "source": [
        "regressor = XGBRegressor()"
      ],
      "metadata": {
        "id": "TQBJPW3at20D"
      },
      "execution_count": 37,
      "outputs": []
    },
    {
      "cell_type": "code",
      "source": [
        "regressor.fit(X_train, Y_train) # Y_train are the original values"
      ],
      "metadata": {
        "colab": {
          "base_uri": "https://localhost:8080/",
          "height": 248
        },
        "id": "v8oefX4AuSVX",
        "outputId": "2958d8c7-ea09-493d-c67b-843419c608d9"
      },
      "execution_count": 38,
      "outputs": [
        {
          "output_type": "execute_result",
          "data": {
            "text/plain": [
              "XGBRegressor(base_score=None, booster=None, callbacks=None,\n",
              "             colsample_bylevel=None, colsample_bynode=None,\n",
              "             colsample_bytree=None, device=None, early_stopping_rounds=None,\n",
              "             enable_categorical=False, eval_metric=None, feature_types=None,\n",
              "             gamma=None, grow_policy=None, importance_type=None,\n",
              "             interaction_constraints=None, learning_rate=None, max_bin=None,\n",
              "             max_cat_threshold=None, max_cat_to_onehot=None,\n",
              "             max_delta_step=None, max_depth=None, max_leaves=None,\n",
              "             min_child_weight=None, missing=nan, monotone_constraints=None,\n",
              "             multi_strategy=None, n_estimators=None, n_jobs=None,\n",
              "             num_parallel_tree=None, random_state=None, ...)"
            ],
            "text/html": [
              "<style>#sk-container-id-1 {color: black;background-color: white;}#sk-container-id-1 pre{padding: 0;}#sk-container-id-1 div.sk-toggleable {background-color: white;}#sk-container-id-1 label.sk-toggleable__label {cursor: pointer;display: block;width: 100%;margin-bottom: 0;padding: 0.3em;box-sizing: border-box;text-align: center;}#sk-container-id-1 label.sk-toggleable__label-arrow:before {content: \"▸\";float: left;margin-right: 0.25em;color: #696969;}#sk-container-id-1 label.sk-toggleable__label-arrow:hover:before {color: black;}#sk-container-id-1 div.sk-estimator:hover label.sk-toggleable__label-arrow:before {color: black;}#sk-container-id-1 div.sk-toggleable__content {max-height: 0;max-width: 0;overflow: hidden;text-align: left;background-color: #f0f8ff;}#sk-container-id-1 div.sk-toggleable__content pre {margin: 0.2em;color: black;border-radius: 0.25em;background-color: #f0f8ff;}#sk-container-id-1 input.sk-toggleable__control:checked~div.sk-toggleable__content {max-height: 200px;max-width: 100%;overflow: auto;}#sk-container-id-1 input.sk-toggleable__control:checked~label.sk-toggleable__label-arrow:before {content: \"▾\";}#sk-container-id-1 div.sk-estimator input.sk-toggleable__control:checked~label.sk-toggleable__label {background-color: #d4ebff;}#sk-container-id-1 div.sk-label input.sk-toggleable__control:checked~label.sk-toggleable__label {background-color: #d4ebff;}#sk-container-id-1 input.sk-hidden--visually {border: 0;clip: rect(1px 1px 1px 1px);clip: rect(1px, 1px, 1px, 1px);height: 1px;margin: -1px;overflow: hidden;padding: 0;position: absolute;width: 1px;}#sk-container-id-1 div.sk-estimator {font-family: monospace;background-color: #f0f8ff;border: 1px dotted black;border-radius: 0.25em;box-sizing: border-box;margin-bottom: 0.5em;}#sk-container-id-1 div.sk-estimator:hover {background-color: #d4ebff;}#sk-container-id-1 div.sk-parallel-item::after {content: \"\";width: 100%;border-bottom: 1px solid gray;flex-grow: 1;}#sk-container-id-1 div.sk-label:hover label.sk-toggleable__label {background-color: #d4ebff;}#sk-container-id-1 div.sk-serial::before {content: \"\";position: absolute;border-left: 1px solid gray;box-sizing: border-box;top: 0;bottom: 0;left: 50%;z-index: 0;}#sk-container-id-1 div.sk-serial {display: flex;flex-direction: column;align-items: center;background-color: white;padding-right: 0.2em;padding-left: 0.2em;position: relative;}#sk-container-id-1 div.sk-item {position: relative;z-index: 1;}#sk-container-id-1 div.sk-parallel {display: flex;align-items: stretch;justify-content: center;background-color: white;position: relative;}#sk-container-id-1 div.sk-item::before, #sk-container-id-1 div.sk-parallel-item::before {content: \"\";position: absolute;border-left: 1px solid gray;box-sizing: border-box;top: 0;bottom: 0;left: 50%;z-index: -1;}#sk-container-id-1 div.sk-parallel-item {display: flex;flex-direction: column;z-index: 1;position: relative;background-color: white;}#sk-container-id-1 div.sk-parallel-item:first-child::after {align-self: flex-end;width: 50%;}#sk-container-id-1 div.sk-parallel-item:last-child::after {align-self: flex-start;width: 50%;}#sk-container-id-1 div.sk-parallel-item:only-child::after {width: 0;}#sk-container-id-1 div.sk-dashed-wrapped {border: 1px dashed gray;margin: 0 0.4em 0.5em 0.4em;box-sizing: border-box;padding-bottom: 0.4em;background-color: white;}#sk-container-id-1 div.sk-label label {font-family: monospace;font-weight: bold;display: inline-block;line-height: 1.2em;}#sk-container-id-1 div.sk-label-container {text-align: center;}#sk-container-id-1 div.sk-container {/* jupyter's `normalize.less` sets `[hidden] { display: none; }` but bootstrap.min.css set `[hidden] { display: none !important; }` so we also need the `!important` here to be able to override the default hidden behavior on the sphinx rendered scikit-learn.org. See: https://github.com/scikit-learn/scikit-learn/issues/21755 */display: inline-block !important;position: relative;}#sk-container-id-1 div.sk-text-repr-fallback {display: none;}</style><div id=\"sk-container-id-1\" class=\"sk-top-container\"><div class=\"sk-text-repr-fallback\"><pre>XGBRegressor(base_score=None, booster=None, callbacks=None,\n",
              "             colsample_bylevel=None, colsample_bynode=None,\n",
              "             colsample_bytree=None, device=None, early_stopping_rounds=None,\n",
              "             enable_categorical=False, eval_metric=None, feature_types=None,\n",
              "             gamma=None, grow_policy=None, importance_type=None,\n",
              "             interaction_constraints=None, learning_rate=None, max_bin=None,\n",
              "             max_cat_threshold=None, max_cat_to_onehot=None,\n",
              "             max_delta_step=None, max_depth=None, max_leaves=None,\n",
              "             min_child_weight=None, missing=nan, monotone_constraints=None,\n",
              "             multi_strategy=None, n_estimators=None, n_jobs=None,\n",
              "             num_parallel_tree=None, random_state=None, ...)</pre><b>In a Jupyter environment, please rerun this cell to show the HTML representation or trust the notebook. <br />On GitHub, the HTML representation is unable to render, please try loading this page with nbviewer.org.</b></div><div class=\"sk-container\" hidden><div class=\"sk-item\"><div class=\"sk-estimator sk-toggleable\"><input class=\"sk-toggleable__control sk-hidden--visually\" id=\"sk-estimator-id-1\" type=\"checkbox\" checked><label for=\"sk-estimator-id-1\" class=\"sk-toggleable__label sk-toggleable__label-arrow\">XGBRegressor</label><div class=\"sk-toggleable__content\"><pre>XGBRegressor(base_score=None, booster=None, callbacks=None,\n",
              "             colsample_bylevel=None, colsample_bynode=None,\n",
              "             colsample_bytree=None, device=None, early_stopping_rounds=None,\n",
              "             enable_categorical=False, eval_metric=None, feature_types=None,\n",
              "             gamma=None, grow_policy=None, importance_type=None,\n",
              "             interaction_constraints=None, learning_rate=None, max_bin=None,\n",
              "             max_cat_threshold=None, max_cat_to_onehot=None,\n",
              "             max_delta_step=None, max_depth=None, max_leaves=None,\n",
              "             min_child_weight=None, missing=nan, monotone_constraints=None,\n",
              "             multi_strategy=None, n_estimators=None, n_jobs=None,\n",
              "             num_parallel_tree=None, random_state=None, ...)</pre></div></div></div></div></div>"
            ]
          },
          "metadata": {},
          "execution_count": 38
        }
      ]
    },
    {
      "cell_type": "code",
      "source": [
        "# Prediction on training data\n",
        "# training_data_prediction are the values predicted by our model with respect to Y_train\n",
        "training_data_prediction = regressor.predict(X_train)"
      ],
      "metadata": {
        "id": "FifU9DoYubYv"
      },
      "execution_count": 39,
      "outputs": []
    },
    {
      "cell_type": "code",
      "source": [
        "# R squared value (lies in the range of 0 to 1)\n",
        "r2_train = metrics.r2_score(Y_train, training_data_prediction) # It will check how close is the value predicted by our model"
      ],
      "metadata": {
        "id": "OFVPpz6OvKPj"
      },
      "execution_count": 41,
      "outputs": []
    },
    {
      "cell_type": "code",
      "source": [
        "print(\"R squared training value:\", r2_train)"
      ],
      "metadata": {
        "colab": {
          "base_uri": "https://localhost:8080/"
        },
        "id": "GpkUSpnWvpOC",
        "outputId": "ae9f6c1c-e068-40d8-d3f6-141ba2c14749"
      },
      "execution_count": 45,
      "outputs": [
        {
          "output_type": "stream",
          "name": "stdout",
          "text": [
            "R squared training value: 0.9999998984422815\n"
          ]
        }
      ]
    },
    {
      "cell_type": "code",
      "source": [
        "# Prediction on testing data\n",
        "testing_data_prediction = regressor.predict(X_test)"
      ],
      "metadata": {
        "id": "rhsGHu-Aw9_g"
      },
      "execution_count": 43,
      "outputs": []
    },
    {
      "cell_type": "code",
      "source": [
        "r2_test = metrics.r2_score(Y_test, testing_data_prediction)"
      ],
      "metadata": {
        "id": "HWr5BADExRD6"
      },
      "execution_count": 44,
      "outputs": []
    },
    {
      "cell_type": "code",
      "source": [
        "print(\"R squared testing value:\", r2_test)"
      ],
      "metadata": {
        "colab": {
          "base_uri": "https://localhost:8080/"
        },
        "id": "HR6eWQJzxYrc",
        "outputId": "44f19132-da71-41ae-f862-b96902003d00"
      },
      "execution_count": 46,
      "outputs": [
        {
          "output_type": "stream",
          "name": "stdout",
          "text": [
            "R squared testing value: 0.9280011740911406\n"
          ]
        }
      ]
    },
    {
      "cell_type": "markdown",
      "source": [
        "VISUALIZING IT USING SCATTERPLOT"
      ],
      "metadata": {
        "id": "TbZZAs2ky3xv"
      }
    },
    {
      "cell_type": "code",
      "source": [
        "plt.scatter(Y_test, testing_data_prediction)\n",
        "plt.xlabel(\"Actual sales\")\n",
        "plt.ylabel(\"Predicted sales\")\n",
        "plt.title(\"Actual sales vs Predicted sales\")\n",
        "plt.show()"
      ],
      "metadata": {
        "colab": {
          "base_uri": "https://localhost:8080/",
          "height": 480
        },
        "id": "64pNlKeSxgLN",
        "outputId": "873b1ea0-433c-42f5-a347-af150a421995"
      },
      "execution_count": 47,
      "outputs": [
        {
          "output_type": "display_data",
          "data": {
            "text/plain": [
              "<Figure size 640x480 with 1 Axes>"
            ],
            "image/png": "[encoded data removed]"
          },
          "metadata": {}
        }
      ]
    },
    {
      "cell_type": "markdown",
      "source": [
        "Thus our model is a good fit for predictions."
      ],
      "metadata": {
        "id": "vQvWxTTmy98D"
      }
    },
    {
      "cell_type": "code",
      "source": [],
      "metadata": {
        "id": "fyY2IIJxyxIQ"
      },
      "execution_count": null,
      "outputs": []
    }
  ]
}